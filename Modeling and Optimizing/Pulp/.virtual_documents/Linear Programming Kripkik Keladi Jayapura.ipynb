


from pulp import *


# Karena kita ingin mencari nilai maksimum maka kita kita definisikan variable problem dengan LPMaximize
masalah = LpProblem("Nilai_Optimum_Keripik_Keladi_Jayapura", LpMaximize)





# Keripik Original, keripik Gurih, dan Keripik Pedas Manis
# k_original = LpVariable('Keripik_Original',0,)
# k_gurih = LpVariable('Keripik_Gurih',0)
# k_pedas_manis = LpVariable('Keripik_Pedas_Manis',0)

k_original = LpVariable('Keripik_Original',0, None, LpInteger)
k_gurih = LpVariable('Keripik_Gurih',0, None, LpInteger)
k_pedas_manis = LpVariable('Keripik_Pedas_Manis',0, None, LpInteger)





# Membuat objective function
# Modeling yg kita lakukan, kita dapatkan objective function yang kita buat adalah
# 19.400 X1 + 27.250 X2 + 30.320 X3 
harga_original = 19_400
harga_gurih = 27_250
harga_pedas_manis = 30_320

masalah += harga_original * k_original + harga_gurih * k_gurih + harga_pedas_manis * k_pedas_manis, "Pendapatan Maksimal Produksi Keripik Keladi Jayapura"





masalah += 700 * k_original + 600 * k_gurih + 500 * k_pedas_manis <= 200_000, 'BahanKeladi'
masalah += 50 * k_gurih + 120 * k_pedas_manis <= 5_000, 'Gula'
masalah += 10 * k_gurih + 4 * k_pedas_manis <= 2_0000, 'Garam'
masalah += 12 * k_pedas_manis <= 250, 'Cabai'
masalah += 5 * k_gurih + 3 * k_pedas_manis <= 2_000, 'Rempah-rempah'
masalah += 2 * k_pedas_manis <= 1_000, 'Penyedap'
masalah += 400 * k_original + 400 * k_gurih + 400 * k_pedas_manis <= 10_000, 'Minyak'



masalah.writeLP('MaksimalProduksiKerupukKeladiJaya.lp')


masalah.solve()
print ("Status : ",LpStatus[masalah.status])





for nVar in masalah.variables():
    print(nVar.name,":",nVar.varValue)

pendapatan_optimum_atas_produksi = masalah.objective
print ("Pendapatan optimum : ", value(pendapatan_optimum_atas_produksi))


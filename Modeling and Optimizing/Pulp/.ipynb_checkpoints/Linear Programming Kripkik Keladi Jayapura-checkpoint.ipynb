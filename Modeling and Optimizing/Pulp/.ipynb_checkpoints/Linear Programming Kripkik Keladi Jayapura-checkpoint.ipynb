{
 "cells": [
  {
   "cell_type": "markdown",
   "id": "791a88f5-a6d3-4608-8ecc-3464aa25411c",
   "metadata": {},
   "source": [
    "## Import library yang digunakan\n",
    "Saya menggunakan Pulp"
   ]
  },
  {
   "cell_type": "code",
   "execution_count": 1,
   "id": "dd4ffec6-7be7-4f8f-b8b9-a50fa269231d",
   "metadata": {},
   "outputs": [],
   "source": [
    "from pulp import *"
   ]
  },
  {
   "cell_type": "code",
   "execution_count": 2,
   "id": "cfe3dd12-9776-4e04-8165-d7c7abc11d0b",
   "metadata": {},
   "outputs": [],
   "source": [
    "# Karena kita ingin mencari nilai maksimum maka kita kita definisikan variable problem dengan LPMaximize\n",
    "masalah = LpProblem(\"Nilai_Optimum_Keripik_Keladi_Jayapura\", LpMaximize)"
   ]
  },
  {
   "cell_type": "markdown",
   "id": "5c37a915-8766-450f-ae13-767fd02f5926",
   "metadata": {},
   "source": [
    "## Mendifinisikan Variabel"
   ]
  },
  {
   "cell_type": "code",
   "execution_count": 3,
   "id": "37c50b81-ca7a-43b3-81fe-e9623bf8dc4e",
   "metadata": {},
   "outputs": [],
   "source": [
    "# Keripik Original, keripik Gurih, dan Keripik Pedas Manis\n",
    "k_original = LpVariable('Keripik_Original',0,)\n",
    "k_gurih = LpVariable('Keripik_Gurih',0)\n",
    "k_pedas_manis = LpVariable('Keripik_Pedas_Manis',0)\n",
    "\n",
    "# k_original = LpVariable('Keripik_Original',0, None, LpInteger)\n",
    "# k_gurih = LpVariable('Keripik_Gurih',0, None, LpInteger)\n",
    "# k_pedas_manis = LpVariable('Keripik_Pedas_Manis',0, None, LpInteger)"
   ]
  },
  {
   "cell_type": "markdown",
   "id": "0117ec31-194e-43fb-a7b1-35e0d999770f",
   "metadata": {},
   "source": [
    "## Membuat Objective Function\n",
    "kita sudah membuat variabel keripik original, gurih dan pedas manis, selanjutnya kita buat funfsi optimum"
   ]
  },
  {
   "cell_type": "code",
   "execution_count": 4,
   "id": "7d3422f7-ed41-4c83-a2ea-8d79bfcb08b3",
   "metadata": {},
   "outputs": [],
   "source": [
    "# Membuat objective function\n",
    "# Modeling yg kita lakukan, kita dapatkan objective function yang kita buat adalah\n",
    "# 19.400 X1 + 27.250 X2 + 30.320 X3 \n",
    "harga_original = 19_400\n",
    "harga_gurih = 27_250\n",
    "harga_pedas_manis = 30_320\n",
    "\n",
    "masalah += harga_original * k_original + harga_gurih * k_gurih + harga_pedas_manis * k_pedas_manis, \"Pendapatan Maksimal Produksi Keripik Keladi Jayapura\""
   ]
  },
  {
   "attachments": {},
   "cell_type": "markdown",
   "id": "2066be09-5af6-49ec-b21d-eb2eb89c28f6",
   "metadata": {},
   "source": [
    "## Membuat Constraint Function (Fungsi Masalah)\n",
    "Dari modeling yang sudah kita buat, kita pindahkan kedalam bentuk syntax dibawah ini\n",
    "\n",
    "| Nama Fungsi | Fungsi Kendala |\n",
    "| :--- | :----: |\n",
    "|Keladi | 700 X1 + 600 X2 + 500 X3 <= 200.000|\n",
    "|Gula | 50 X2 + 120 X3 <= 5.000|\n",
    "|Garam | 10 X2 + 4 X3 <= 2.000|\n",
    "|Cabai | 12 X3 <= 250|\n",
    "|Rempah | 5 X2 + 3 X3 <= 2000|\n",
    "|Penyedap | 2 X3 <= 1.000|\n",
    "|Minyak | 400 X1 + 400 X2 + 400 X3 <= 10.000|"
   ]
  },
  {
   "cell_type": "code",
   "execution_count": 5,
   "id": "6f67cf74-e7f9-4b65-9ea2-d552444539bd",
   "metadata": {},
   "outputs": [],
   "source": [
    "masalah += 700 * k_original + 600 * k_gurih + 500 * k_pedas_manis <= 200_000, 'BahanKeladi'\n",
    "masalah += 50 * k_gurih + 120 * k_pedas_manis <= 5_000, 'Gula'\n",
    "masalah += 10 * k_gurih + 4 * k_pedas_manis <= 2_0000, 'Garam'\n",
    "masalah += 12 * k_pedas_manis <= 250, 'Cabai'\n",
    "masalah += 5 * k_gurih + 3 * k_pedas_manis <= 2_000, 'Rempah-rempah'\n",
    "masalah += 2 * k_pedas_manis <= 1_000, 'Penyedap'\n",
    "masalah += 400 * k_original + 400 * k_gurih + 400 * k_pedas_manis <= 10_000, 'Minyak'\n"
   ]
  },
  {
   "cell_type": "code",
   "execution_count": 6,
   "id": "b29f1c86-5c6c-4025-a8ad-aed5e6dd7377",
   "metadata": {},
   "outputs": [
    {
     "data": {
      "text/plain": [
       "[Keripik_Gurih, Keripik_Original, Keripik_Pedas_Manis]"
      ]
     },
     "execution_count": 6,
     "metadata": {},
     "output_type": "execute_result"
    }
   ],
   "source": [
    "masalah.writeLP('MaksimalProduksiKerupukKeladiJaya.lp')"
   ]
  },
  {
   "cell_type": "code",
   "execution_count": 7,
   "id": "b17917c2-682c-43bf-a765-e010325cc5ac",
   "metadata": {},
   "outputs": [
    {
     "name": "stdout",
     "output_type": "stream",
     "text": [
      "Status :  Optimal\n"
     ]
    }
   ],
   "source": [
    "masalah.solve()\n",
    "print (\"Status : \",LpStatus[masalah.status])"
   ]
  },
  {
   "cell_type": "markdown",
   "id": "599030ea-1a28-4795-b6fc-49ee0a5fc0c5",
   "metadata": {},
   "source": [
    "Nilai optimal dapat dicapai dengan memproduksi keripik dengan varian sebagai berikut"
   ]
  },
  {
   "cell_type": "code",
   "execution_count": 8,
   "id": "813a85c0-5aac-4213-b598-885e4b98ad10",
   "metadata": {},
   "outputs": [
    {
     "name": "stdout",
     "output_type": "stream",
     "text": [
      "Keripik_Gurih : 4.1666667\n",
      "Keripik_Original : 0.0\n",
      "Keripik_Pedas_Manis : 20.833333\n",
      "Pendapatan optimum :  745208.324135\n"
     ]
    }
   ],
   "source": [
    "for nVar in masalah.variables():\n",
    "    print(nVar.name,\":\",nVar.varValue)\n",
    "\n",
    "pendapatan_optimum_atas_produksi = masalah.objective\n",
    "print (\"Pendapatan optimum : \", value(pendapatan_optimum_atas_produksi))\n"
   ]
  }
 ],
 "metadata": {
  "kernelspec": {
   "display_name": "Python 3 (ipykernel)",
   "language": "python",
   "name": "python3"
  },
  "language_info": {
   "codemirror_mode": {
    "name": "ipython",
    "version": 3
   },
   "file_extension": ".py",
   "mimetype": "text/x-python",
   "name": "python",
   "nbconvert_exporter": "python",
   "pygments_lexer": "ipython3",
   "version": "3.12.7"
  }
 },
 "nbformat": 4,
 "nbformat_minor": 5
}

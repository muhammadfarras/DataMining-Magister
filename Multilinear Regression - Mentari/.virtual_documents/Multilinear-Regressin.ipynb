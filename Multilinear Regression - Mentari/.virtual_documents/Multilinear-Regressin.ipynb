import pandas as pd
from sklearn.preprocessing import OneHotEncoder
from sklearn.model_selection import train_test_split


# Load data sets dari CSV

df = pd.read_csv("Data/insurance.csv")

df.head()


# Mengambil semua unik data
sexUnique = df.sex.unique()
regionUnique = df.region.unique()
smokerUnique = df.smoker.unique()
sexUnique, regionUnique, smokerUnique


# Rpleace all data
df.sex.replace(sexUnique,[0,1], inplace=True)
df.region.replace(regionUnique,[1,2,3,4], inplace=True)
df.smoker.replace(smokerUnique,[0,1], inplace=True)

pd.DataFrame(df)


# Set up variable dependent dan variable independent
x = ['age','sex','bmi','children','smoker','region']
y = ['charges']

independentValue = df[x]
depenendentValue = df[y]

pd.DataFrame(independentValue)


pd.DataFrame(depenendentValue)


# from sklearn.model_selection import train_test_split

# # Membuat data latihan dan data test
X_train, X_test, y_train, y_test = train_test_split(independentValue, depenendentValue, test_size=0.2, random_state=42)
X_train.head()



independentValue


from sklearn.linear_model import LinearRegression
from sklearn.metrics import mean_squared_error, r2_score
import matplotlib.pyplot as plt
import seaborn as sns
# Inisiasi Multilinear Regression

# independentValue = df[x]
# depenendentValue = df[y]
model = LinearRegression()
model.fit(independentValue, depenendentValue)

# Prediksi nilai
y_pred = model.predict(independentValue)


pd.DataFrame(y_pred)

print("Mean Squared Error:", mean_squared_error(depenendentValue, y_pred))
print("R-squared:", r2_score(depenendentValue, y_pred))


sns.regplot(x = depenendentValue, y = y_pred).set_title('Predict vs Actual')
plt.show()

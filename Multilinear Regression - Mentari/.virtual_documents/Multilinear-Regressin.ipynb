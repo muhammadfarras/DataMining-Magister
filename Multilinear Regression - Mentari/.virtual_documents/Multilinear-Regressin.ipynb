import pandas as pd
from sklearn.preprocessing import OneHotEncoder


# Load data sets dari CSV

df = pd.read_csv("Data/insurance.csv")

df.head()


# Mengambil semua unik data
sexUnique = df.sex.unique()
regionUnique = df.region.unique()
smokerUnique = df.smoker.unique()
sexUnique, regionUnique, smokerUnique


# Rpleace all data
df.sex.replace(sexUnique,[0,1], inplace=True)
df.region.replace(regionUnique,[1,2,3,4], inplace=True)
df.smoker.replace(smokerUnique,[0,1], inplace=True)

pd.DataFrame(df)


# Set up variable dependent dan variable independent
x = ['age','sex','bmi','children','smoker','region']
y = ['charges']

independentValue = df[x]
depenendentValue = df[y]

pd.DataFrame(independentValue)





from sklearn.model_selection import train_test_split

# Membuat data latihan dan data test
X_train, X_test, y_train, y_test = train_test_split(independentValue, depenendentValue, test_size=0.2, random_state=42)
x_train.head()



from sklearn.linear_model import LinearRegression
from sklearn.metrics import mean_squared_error, r2_score
import matplotlib.pyplot as plt

# Inisiasi Multilinear Regression

# independentValue = df[x]
# depenendentValue = df[y]
model = LinearRegression()
model.fit(independentValue, depenendentValue)

# The model is used to predict the target variable for the test set.
y_pred = model.predict(X_test)


print("Mean Squared Error:", mean_squared_error(y_test, y_pred))
print("R-squared:", r2_score(y_test, y_pred))

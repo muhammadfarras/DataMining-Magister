


# Import semua library yang dibutuh
import torch
import torch.nn as nn
import numpy as np
import matplotlib.pyplot as plt
from pandas import DataFrame as df
import pandas as pd
from sklearn.model_selection import train_test_split

from torch.autograd import Variable





datasets =  pd.read_excel("Data/heart_disease_uci.xlsx")
dataFrame = df(datasets)
dataFrame.tail()


print('Data Types')
print('-'*10)
print(dataFrame.dtypes)
print("")
print ('Shape')
print('-'*10)
print (newShape:=dataFrame.shape)





print("Data Shape setelah drop NA value")
dataFrame = dataFrame.dropna()
dataFrame.shape

print(f'data yang digunakan pada model sebesar {(dataFrame.shape[0]/newShape[0])*100}% dari total datasets yang tersedia pada kaggle')








dataFrame['thal'].head()


thalUnique = dataFrame['thal'].unique()
print(thalUnique)
dataFrame.thal.replace(thalUnique,[0,1,2], inplace=True)


# ind_var = dataFrame[['age', 'chol', 'thalch','ca','thal']]
ind_var = dataFrame[[ 'thalch']]
num_of_ind_var = ind_var.shape[1]
ind_var.head()


dep_var = dataFrame[['num']]
dep_var.head()





# x_train, x_test, y_train, y_test = train_test_split(ind_var, dep_var, test_size = 0.2, random_state = 4)





print(f'Jumlah varaible input {5}')


# Parameter menerima input size dan outputnya
# 5 variabel dependen dan 1 variable independent
# model = nn.Linear(5, 1)
# model


# # Knversi data kedalam bentuk pytorch
# X_torch_train = torch.from_numpy(x_train.to_numpy().astype(np.float32))
# X_torch_test = torch.from_numpy(x_test.to_numpy().astype(np.float32))
# y_torch_train = torch.from_numpy(y_train.to_numpy().astype(np.float32))
# # dep_var_test = torch.from_numpy(y_test.to_numpy().astype(np.float32))

# # reshape the y from 1d array to a column vector
# y_torch_train = y_torch_train.view(y.shape[0], 1) # number of values is 1 and rows is 1


X = Variable(torch.from_numpy(ind_var.to_numpy().astype(np.float32)))
Y = Variable(torch.from_numpy(dep_var.to_numpy().astype(np.float32)))
# Y = torch.from_numpy(dep_var.to_numpy().astype(np.float32))


print(X.shape)
print(Y.shape)


df(X)


df(Y)


X = torch.from_numpy(np.array(range(0,10), dtype = np.float32))
Y = torch.from_numpy(np.array([2*a for a in X], dtype = np.float32))
df({'X':X, 'Y':Y})


class LinearRegressionModel (nn.Module):
    def __init__(self):
        super(LinearRegressionModel, self).__init__()
        self.linear = torch.nn.Linear(1,1)

    def forward(self,x):
        y_pred = self.linear(x)
        return y_pred


model = LinearRegressionModel()



## Membuat optimizer dan learning rate
learning_rate = 0.01
loss_function = nn.MSELoss()
# loss_function = nn.CrossEntropyLoss()
optimizer = torch.optim.SGD(model.parameters(), lr = learning_rate)


# Train Model
epochs = 100 # banyak percobaan
myMSE = list()
for epoch in range (epochs):

    # maju
    # print(epoch)
    predict_dep = model(X)
    # print(predict_dep)
    loss = loss_function(predict_dep, Y)
    # # loss = MSE(y_predicted = predict_dep, y_target = Y) # calculate MSE
    myMSE.append(loss)

    # # backward pass: calculate gradients
    loss.backward()
    
    # # perform weight updates
    optimizer.step()

    # # empty the gradients before the next iterations so they don't accumulate
    optimizer.zero_grad()
    
    

    if (epoch+1) % 5 == 0:
        print(f'Pelatihan ke : {epoch+1} loss: {loss.item():5f}')

# Plot kurva
# predicted = model(X).detach().numpy() # detach the tensor and then convert to numpy array again.
# # print(predicted)
# # print(myMSE.item())
# lost_list = [a.item() for a in myMSE]
# plt.plot(range(1, epochs+1),lost_list);
# plt.xlabel('Epoch (#)'), plt.ylabel('Mean squared Errors')









from ucimlrepo import fetch_ucirepo 
  
# fetch dataset 
statlog_german_credit_data = fetch_ucirepo(id=144) 
  
# data (as pandas dataframes) 
X = statlog_german_credit_data.data.features 
y = statlog_german_credit_data.data.targets 


import pandas as pd
from pandas import DataFrame as df





# Print data Independent
df_X = df(X)
df_X.head()





attribute_used = ['Attribute2','Attribute3','Attribute4','Attribute5','Attribute6','Attribute7','Attribute9','Attribute13','Attribute15','Attribute16']
means = ['durasi','rwyt_krdt','tjn_krdt','jml_krdt','jml_tabgn','wkt_krj','stat_nkh','umur','stat_rmh','jml_krdt_lain']
new_column = {key:value for key, value in zip(attribute_used,means)}


# Hanya mengambil data
df_X_use = df (df_X[attribute_used])
df_X_use = df_X_use.rename(columns=new_column)
df_X_use.tail()





# Mencari nilai unik
pd.set_option('future.no_silent_downcasting', True)
unique_rwy_krd = df_X_use.rwyt_krdt.unique()
unique_tjn_krdt = df_X_use.tjn_krdt.unique()
unique_jml_tabgn = df_X_use.jml_tabgn.unique()
unique_wkt_krj = df_X_use.wkt_krj.unique()
unique_stat_nkh = df_X_use.stat_nkh.unique()
unique_stat_rmh = df_X_use.stat_rmh.unique()

df_X_use.rwyt_krdt = df_X_use.rwyt_krdt.replace(unique_rwy_krd,range(0,len(unique_rwy_krd)))
df_X_use.tjn_krdt = df_X_use.tjn_krdt.replace(unique_tjn_krdt,range(0,len(unique_tjn_krdt)))
df_X_use.jml_tabgn = df_X_use.jml_tabgn.replace(unique_jml_tabgn,range(0,len(unique_jml_tabgn)))
df_X_use.wkt_krj = df_X_use.wkt_krj.replace(unique_wkt_krj,range(0,len(unique_wkt_krj)))
df_X_use.stat_nkh = df_X_use.stat_nkh.replace(unique_stat_nkh,range(0,len(unique_stat_nkh)))
df_X_use.stat_rmh = df_X_use.stat_rmh.replace(unique_stat_rmh,range(0,len(unique_stat_rmh)))

df_X_use.head()


df_X_use.describe()





# Print data Dependent
df_y = df(y)
df_y.head()


# Unique class, (1 tidak berisiko, 2 bersiko)
df_y['class'].unique()

df_y['class'] = df_y['class'].replace(df_y['class'].unique(),(1,2))


df_y.describe()


df_y.shape





from sklearn.model_selection import train_test_split
from sklearn.linear_model import LogisticRegression
from sklearn.metrics import mean_squared_error, r2_score
import matplotlib.pyplot as plt
# LogisticRegression

logit_reg = LogisticRegression(penalty='l2', C=1e42, solver='liblinear')
logit_reg.fit(df_X_use,df_y.values.ravel())





logit_reg.predict_log_proba(df_X_use)




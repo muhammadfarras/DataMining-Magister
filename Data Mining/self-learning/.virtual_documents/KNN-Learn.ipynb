import pandas as pd
from sklearn.datasets import load_iris


# Load data iris
iris = load_iris()
dir(iris)


iris.feature_names


iris.target_names


df = pd.DataFrame(iris.data, columns = iris.feature_names)
df.head()





df['tipe_bunga'] = iris.target
df.head()





df_sentosa = df[df['tipe_bunga'] == 0]
df_sentosa.head()


df_versi_color = df[df['tipe_bunga'] == 1]
df_versi_color.head()


df_virginica = df[df['tipe_bunga'] == 2]
df_virginica.head()


df['nama_bunga'] = df.tipe_bunga.apply(lambda x : iris.target_names[x])
df





import matplotlib.pyplot as plt



plt.scatter(df_sentosa['sepal length (cm)'], df_sentosa['sepal width (cm)'], color='green', marker='+')
plt.scatter(df_versi_color['sepal length (cm)'], df_versi_color['sepal width (cm)'], color='blue', marker='*')
plt.scatter(df_virginica['sepal length (cm)'], df_virginica['sepal width (cm)'], color='red', marker='.')




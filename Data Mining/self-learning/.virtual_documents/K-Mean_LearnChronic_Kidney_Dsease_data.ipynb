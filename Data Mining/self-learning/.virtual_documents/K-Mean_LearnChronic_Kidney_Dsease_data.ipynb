


import numpy as np # linear algebra
import pandas as pd # data processing, CSV file I/O (e.g. pd.read_csv)
import matplotlib.pyplot as plt # for data visualization
import seaborn as sns # for statistical data visualization
import warnings

warnings.filterwarnings('ignore')


df = pd.read_csv('data/Chronic_Kidney_Dsease_data.csv')


df.shape


df.head()


df.isnull().sum()


df.drop(['HeavyMetalsExposure', 'DoctorInCharge', 'WaterQuality'], axis=1, inplace=True)


df.info()


df.head()


df.describe()





y = df['Diagnosis']
df.drop(['Diagnosis'], inplace=True, axis=1)
X = df





from sklearn.preprocessing import MinMaxScaler
cols = X.columns
ms = MinMaxScaler()

X = ms.fit_transform(X)


X = pd.DataFrame(X, columns= [cols])


X.head()


X.info()





from sklearn.cluster import KMeans

kmeans = KMeans(n_clusters=2, random_state=0)
kmeans.fit(X)





kmeans.cluster_centers_


# Semakin sedikit tingkat inertia, maka semakin baik model tersebut
# Hasil kalkulasi jaraka antara centeroid dengan setiap titik pada data
kmeans.inertia_





labels = kmeans.labels_
labels.shape


y.shape


print('Jumlah data yg benar ', (sum(y==labels)/y.size*100))








cs = []
for nKBanyak in range (1,11):
    nKmeans = KMeans(n_clusters=nKBanyak, random_state=0)
    nKmeans.fit(X)
    cs.append(nKmeans.inertia_)

plt.plot (range(1,11),cs)
plt.xlabel('Banyak Cluster')
plt.ylabel('Intertia')
plt.title('Elbow Method')
plt.show()




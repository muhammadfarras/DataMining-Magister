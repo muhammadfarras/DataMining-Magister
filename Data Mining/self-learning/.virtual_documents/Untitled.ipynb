


import numpy as np # linear algebra
import pandas as pd # data processing, CSV file I/O (e.g. pd.read_csv)
import matplotlib.pyplot as plt # for data visualization
import seaborn as sns # for statistical data visualization
import warnings

warnings.filterwarnings('ignore')


df = pd.read_csv('data/Live.csv')


df.shape


df.head()


df.isnull().sum()


df.drop(['Column1', 'Column2', 'Column3', 'Column4'], axis=1, inplace=True)


df.info()


df.head()


df.describe()


df.status_id.unique()


df.status_published.unique()


df.status_type.unique()


df.drop(['status_id','status_type'], axis=1, inplace=True)


df.info()


df.head()




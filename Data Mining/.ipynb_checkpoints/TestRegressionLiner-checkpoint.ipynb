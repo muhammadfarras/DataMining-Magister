{
 "cells": [
  {
   "cell_type": "code",
   "execution_count": 108,
   "id": "4fc32dc0-4b08-406d-ba9f-6b39cc6445ec",
   "metadata": {},
   "outputs": [],
   "source": [
    "# Import semua library yang dibutuh\n",
    "import torch\n",
    "import torch.nn as nn\n",
    "import numpy as np\n",
    "import matplotlib.pyplot as plt\n",
    "from pandas import DataFrame as df\n",
    "import pandas as pd\n",
    "from sklearn.model_selection import train_test_split\n",
    "\n",
    "from sklearn import datasets\n",
    "from torch.autograd import Variable\n"
   ]
  },
  {
   "cell_type": "code",
   "execution_count": 109,
   "id": "8b9e5684-5173-4401-96bb-9e0fae428590",
   "metadata": {},
   "outputs": [],
   "source": [
    "class LinearRegressionModel (nn.Module):\n",
    "    def __init__(self, input_val, output_val):\n",
    "        super(LinearRegressionModel, self).__init__()\n",
    "        self.linear = torch.nn.Linear(input_val, output_val)\n",
    "\n",
    "    def forward(self,x):\n",
    "        y_pred = self.linear(x)\n",
    "        return y_pred"
   ]
  },
  {
   "cell_type": "code",
   "execution_count": 110,
   "id": "5b2e1b54-c549-4fc4-8316-a3769dcac226",
   "metadata": {},
   "outputs": [],
   "source": [
    "model = LinearRegressionModel(1,1)\n",
    "crieation = nn.MSELoss()\n",
    "learning_rate = 0.01\n",
    "optimizer = torch.optim.SGD(model.parameters(), lr = learning_rate)"
   ]
  },
  {
   "cell_type": "code",
   "execution_count": 209,
   "id": "a8aa09e7-5b9b-4cd3-bb16-8fd244fe4156",
   "metadata": {},
   "outputs": [
    {
     "name": "stdout",
     "output_type": "stream",
     "text": [
      "(10, 2)\n"
     ]
    },
    {
     "data": {
      "text/html": [
       "<div>\n",
       "<style scoped>\n",
       "    .dataframe tbody tr th:only-of-type {\n",
       "        vertical-align: middle;\n",
       "    }\n",
       "\n",
       "    .dataframe tbody tr th {\n",
       "        vertical-align: top;\n",
       "    }\n",
       "\n",
       "    .dataframe thead th {\n",
       "        text-align: right;\n",
       "    }\n",
       "</style>\n",
       "<table border=\"1\" class=\"dataframe\">\n",
       "  <thead>\n",
       "    <tr style=\"text-align: right;\">\n",
       "      <th></th>\n",
       "      <th>0</th>\n",
       "      <th>1</th>\n",
       "    </tr>\n",
       "  </thead>\n",
       "  <tbody>\n",
       "    <tr>\n",
       "      <th>0</th>\n",
       "      <td>0</td>\n",
       "      <td>1</td>\n",
       "    </tr>\n",
       "    <tr>\n",
       "      <th>1</th>\n",
       "      <td>2</td>\n",
       "      <td>3</td>\n",
       "    </tr>\n",
       "    <tr>\n",
       "      <th>2</th>\n",
       "      <td>4</td>\n",
       "      <td>5</td>\n",
       "    </tr>\n",
       "    <tr>\n",
       "      <th>3</th>\n",
       "      <td>6</td>\n",
       "      <td>7</td>\n",
       "    </tr>\n",
       "    <tr>\n",
       "      <th>4</th>\n",
       "      <td>8</td>\n",
       "      <td>9</td>\n",
       "    </tr>\n",
       "    <tr>\n",
       "      <th>5</th>\n",
       "      <td>0</td>\n",
       "      <td>2</td>\n",
       "    </tr>\n",
       "    <tr>\n",
       "      <th>6</th>\n",
       "      <td>4</td>\n",
       "      <td>6</td>\n",
       "    </tr>\n",
       "    <tr>\n",
       "      <th>7</th>\n",
       "      <td>8</td>\n",
       "      <td>10</td>\n",
       "    </tr>\n",
       "    <tr>\n",
       "      <th>8</th>\n",
       "      <td>12</td>\n",
       "      <td>14</td>\n",
       "    </tr>\n",
       "    <tr>\n",
       "      <th>9</th>\n",
       "      <td>16</td>\n",
       "      <td>18</td>\n",
       "    </tr>\n",
       "  </tbody>\n",
       "</table>\n",
       "</div>"
      ],
      "text/plain": [
       "    0   1\n",
       "0   0   1\n",
       "1   2   3\n",
       "2   4   5\n",
       "3   6   7\n",
       "4   8   9\n",
       "5   0   2\n",
       "6   4   6\n",
       "7   8  10\n",
       "8  12  14\n",
       "9  16  18"
      ]
     },
     "execution_count": 209,
     "metadata": {},
     "output_type": "execute_result"
    }
   ],
   "source": [
    "X_numpy = np.arange(0,10)\n",
    "X_numpy2 = np.arange(0,20,2)\n",
    "# print(X_numpy.shape)\n",
    "# Y_numpy = np.arange(0,20,2)\n",
    "Y_numpy = 2*X_numpy+(3+X_numpy2)\n",
    "\n",
    "X_all = X_numpy.reshape(5,2)\n",
    "X_all = np.concatenate((X_numpy, X_numpy2)).reshape(10,2)\n",
    "\n",
    "print(X_all.shape)\n",
    "df({\"X\":X_numpy,\"X2\":X_numpy2,\"Y\":Y_numpy})\n",
    "\n",
    "df(X_all)"
   ]
  },
  {
   "cell_type": "code",
   "execution_count": 224,
   "id": "03373bef-3856-43fd-88a0-8b3879f5a320",
   "metadata": {},
   "outputs": [
    {
     "name": "stdout",
     "output_type": "stream",
     "text": [
      "(10,)\n",
      "2 1\n"
     ]
    }
   ],
   "source": [
    "# generate the regression dataset\n",
    "# X_numpy, y_numpy = datasets.make_regression(n_samples=150, n_features=1, noise=20, random_state=1)\n",
    "print(X_numpy.shape)\n",
    "# convert numpy array to pytorch tensor\n",
    "\n",
    "# X = torch.from_numpy(X_numpy.astype(np.float32)) # also convert the values from double to float\n",
    "X = torch.from_numpy(X_all.astype(np.float32)) # also convert the values from double to float\n",
    "\n",
    "# print(X)\n",
    "y = torch.from_numpy(Y_numpy.astype(np.float32))\n",
    "# reshape the y from 1d array to a column vector\n",
    "y = y.view(y.shape[0], 1) # number of values is 1 and rows is 1\n",
    "# print(y)\n",
    "# print(X.shape)\n",
    "# print(y.shape)\n",
    "# Create the model, it's going to be just a single layer\n",
    "# We use the built-in Linear model\n",
    "n_samples, n_features = X.shape\n",
    "\n",
    "input_size = n_features\n",
    "print(input_size, output_size)\n",
    "output_size = 1\n",
    "model = nn.Linear(input_size, output_size)\n",
    "\n",
    "\n",
    "# Define the loss and optimizer\n",
    "learning_rate = 0.0001\n",
    "loss_function = nn.MSELoss()\n",
    "optimizer = torch.optim.SGD(model.parameters(), lr=learning_rate) # takes the model parameters and learning rate"
   ]
  },
  {
   "cell_type": "code",
   "execution_count": 225,
   "id": "63f96923-b0ff-44a6-ab1d-e403337d8eee",
   "metadata": {},
   "outputs": [
    {
     "name": "stdout",
     "output_type": "stream",
     "text": [
      "epoch: 10, loss = 276.549866\n",
      "epoch: 20, loss = 186.913055\n",
      "epoch: 30, loss = 136.645203\n",
      "epoch: 40, loss = 108.430984\n",
      "epoch: 50, loss = 92.570724\n",
      "epoch: 60, loss = 83.631004\n",
      "epoch: 70, loss = 78.568115\n",
      "epoch: 80, loss = 75.677063\n",
      "epoch: 90, loss = 74.002754\n",
      "epoch: 100, loss = 73.010162\n"
     ]
    },
    {
     "data": {
      "image/png": "[encoded data removed]",
      "text/plain": [
       "<Figure size 640x480 with 1 Axes>"
      ]
     },
     "metadata": {},
     "output_type": "display_data"
    }
   ],
   "source": [
    "# Create the training loop\n",
    "epochs = 10000\n",
    "for epoch in range(epochs):\n",
    "    \n",
    "    # forward pass\n",
    "    y_predicted = model(X)\n",
    "    loss = loss_function(y_predicted, y) # takes the predicted values and actual values\n",
    "    \n",
    "    # backward pass: calculate gradients\n",
    "    loss.backward()\n",
    "    \n",
    "    \n",
    "    # perform weight updates\n",
    "    optimizer.step()\n",
    "    \n",
    "    # empty the gradients before the next iterations so they don't accumulate\n",
    "    optimizer.zero_grad()\n",
    "\n",
    "    # print(epoch + 1 % 10)\n",
    "    if (epoch + 1) % 10 == 0: # every 10 iterations\n",
    "        # print(epoch)\n",
    "        print(f\"epoch: {epoch+1}, loss = {loss.item():4f}\")\n",
    "        \n",
    "# prot the graphs\n",
    "# We detach so that this operation is not tracked in the computational graph\n",
    "predicted = model(X).detach().numpy() # detach the tensor and then convert to numpy array again.\n",
    "plt.plot(X, y, \"ro\")\n",
    "plt.plot(X, predicted, \"b\")\n",
    "plt.show()\n",
    "\n"
   ]
  },
  {
   "cell_type": "code",
   "execution_count": null,
   "id": "9253cc04-8501-47ce-bbdf-495177bdffc3",
   "metadata": {},
   "outputs": [],
   "source": []
  }
 ],
 "metadata": {
  "kernelspec": {
   "display_name": "Python 3 (ipykernel)",
   "language": "python",
   "name": "python3"
  },
  "language_info": {
   "codemirror_mode": {
    "name": "ipython",
    "version": 3
   },
   "file_extension": ".py",
   "mimetype": "text/x-python",
   "name": "python",
   "nbconvert_exporter": "python",
   "pygments_lexer": "ipython3",
   "version": "3.12.7"
  }
 },
 "nbformat": 4,
 "nbformat_minor": 5
}

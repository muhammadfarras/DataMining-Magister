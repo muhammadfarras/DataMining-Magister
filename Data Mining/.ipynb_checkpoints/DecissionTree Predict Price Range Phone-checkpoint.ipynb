{
 "cells": [
  {
   "cell_type": "code",
   "execution_count": 454,
   "id": "6b997104-8833-4054-82fb-2c4ea19b4da8",
   "metadata": {},
   "outputs": [],
   "source": [
    "import pandas as pd\n",
    "import numpy as np\n",
    "from pandas import DataFrame as df\n",
    "from sklearn.model_selection import train_test_split\n",
    "from sklearn.tree import DecisionTreeClassifier # Please ultilize dir and help to find class or package\n",
    "import matplotlib.pyplot as plt\n",
    "import seaborn as sns\n",
    "from sklearn import metrics\n",
    "from sklearn.metrics import f1_score\n",
    "from sklearn.metrics import precision_score\n",
    "from sklearn.metrics import recall_score\n",
    "from sklearn.metrics import classification_report\n",
    "from sklearn.metrics import confusion_matrix as cm\n",
    "from plotly import graph_objects as go\n",
    "# Setup pd\n",
    "pd.options.display.max_columns = 30"
   ]
  },
  {
   "cell_type": "markdown",
   "id": "7f6b23e5-5d23-4219-8a03-847f34ea0e56",
   "metadata": {},
   "source": [
    "## Kumpulan method untuk display dan semacamnya"
   ]
  },
  {
   "cell_type": "code",
   "execution_count": 378,
   "id": "b8fab0e6-b82a-43a6-a307-816393371bc4",
   "metadata": {},
   "outputs": [],
   "source": [
    "def cmDisplay(confusion_matrix, judul=\"\"):\n",
    "    class_names=[0,1] # name  of classes\n",
    "    fig, ax = plt.subplots()\n",
    "    tick_marks = np.arange(len(class_names))\n",
    "    plt.xticks(tick_marks, class_names)\n",
    "    plt.yticks(tick_marks, class_names)\n",
    "    # create heatmap\n",
    "    sns.heatmap(pd.DataFrame(confusion_matrix), annot=True, cmap=\"YlGnBu\" ,fmt='g')\n",
    "    ax.xaxis.set_label_position(\"top\")\n",
    "    plt.tight_layout()\n",
    "    plt.title('Confusion matrix '+judul, y=1.1)\n",
    "    plt.ylabel('Actual label')\n",
    "    plt.xlabel('Predicted label')\n",
    "\n",
    "def tampilkan_score(y_train, y_test, y_pred_train, y_pred):\n",
    "    # Evaluasi dari Model\n",
    "    print (\"\\033[31mTrain Accuracy: \" , metrics.accuracy_score (y_train , y_pred_train))\n",
    "    print (\"Test Accuracy: \" , metrics.accuracy_score (y_test , y_pred))\n",
    "    print (\"F1 Score: \", f1_score (y_test , y_pred , average = \"macro\"))\n",
    "    print (\"Precision Score: \", precision_score (y_test , y_pred , average = \"macro\" ))\n",
    "    print (\"Recall Score: \", recall_score (y_test , y_pred , average = \"macro\" )) \n",
    "    print ('\\n\\33[33m',classification_report (y_test , y_pred))"
   ]
  },
  {
   "cell_type": "markdown",
   "id": "4557066b-7068-45fe-a420-13b78df8e0f0",
   "metadata": {},
   "source": [
    "## Prepare the data"
   ]
  },
  {
   "cell_type": "code",
   "execution_count": 379,
   "id": "722f1bf0-b8dc-4bdc-815b-a85a4be76dda",
   "metadata": {},
   "outputs": [
    {
     "data": {
      "text/html": [
       "<div>\n",
       "<style scoped>\n",
       "    .dataframe tbody tr th:only-of-type {\n",
       "        vertical-align: middle;\n",
       "    }\n",
       "\n",
       "    .dataframe tbody tr th {\n",
       "        vertical-align: top;\n",
       "    }\n",
       "\n",
       "    .dataframe thead th {\n",
       "        text-align: right;\n",
       "    }\n",
       "</style>\n",
       "<table border=\"1\" class=\"dataframe\">\n",
       "  <thead>\n",
       "    <tr style=\"text-align: right;\">\n",
       "      <th></th>\n",
       "      <th>battery_power</th>\n",
       "      <th>blue</th>\n",
       "      <th>clock_speed</th>\n",
       "      <th>dual_sim</th>\n",
       "      <th>fc</th>\n",
       "      <th>four_g</th>\n",
       "      <th>int_memory</th>\n",
       "      <th>m_dep</th>\n",
       "      <th>mobile_wt</th>\n",
       "      <th>n_cores</th>\n",
       "      <th>pc</th>\n",
       "      <th>px_height</th>\n",
       "      <th>px_width</th>\n",
       "      <th>ram</th>\n",
       "      <th>sc_h</th>\n",
       "      <th>sc_w</th>\n",
       "      <th>talk_time</th>\n",
       "      <th>three_g</th>\n",
       "      <th>touch_screen</th>\n",
       "      <th>wifi</th>\n",
       "      <th>price_range</th>\n",
       "    </tr>\n",
       "  </thead>\n",
       "  <tbody>\n",
       "    <tr>\n",
       "      <th>0</th>\n",
       "      <td>842</td>\n",
       "      <td>0</td>\n",
       "      <td>2.2</td>\n",
       "      <td>0</td>\n",
       "      <td>1</td>\n",
       "      <td>0</td>\n",
       "      <td>7</td>\n",
       "      <td>0.6</td>\n",
       "      <td>188</td>\n",
       "      <td>2</td>\n",
       "      <td>2</td>\n",
       "      <td>20</td>\n",
       "      <td>756</td>\n",
       "      <td>2549</td>\n",
       "      <td>9</td>\n",
       "      <td>7</td>\n",
       "      <td>19</td>\n",
       "      <td>0</td>\n",
       "      <td>0</td>\n",
       "      <td>1</td>\n",
       "      <td>1</td>\n",
       "    </tr>\n",
       "    <tr>\n",
       "      <th>1</th>\n",
       "      <td>1021</td>\n",
       "      <td>1</td>\n",
       "      <td>0.5</td>\n",
       "      <td>1</td>\n",
       "      <td>0</td>\n",
       "      <td>1</td>\n",
       "      <td>53</td>\n",
       "      <td>0.7</td>\n",
       "      <td>136</td>\n",
       "      <td>3</td>\n",
       "      <td>6</td>\n",
       "      <td>905</td>\n",
       "      <td>1988</td>\n",
       "      <td>2631</td>\n",
       "      <td>17</td>\n",
       "      <td>3</td>\n",
       "      <td>7</td>\n",
       "      <td>1</td>\n",
       "      <td>1</td>\n",
       "      <td>0</td>\n",
       "      <td>2</td>\n",
       "    </tr>\n",
       "    <tr>\n",
       "      <th>2</th>\n",
       "      <td>563</td>\n",
       "      <td>1</td>\n",
       "      <td>0.5</td>\n",
       "      <td>1</td>\n",
       "      <td>2</td>\n",
       "      <td>1</td>\n",
       "      <td>41</td>\n",
       "      <td>0.9</td>\n",
       "      <td>145</td>\n",
       "      <td>5</td>\n",
       "      <td>6</td>\n",
       "      <td>1263</td>\n",
       "      <td>1716</td>\n",
       "      <td>2603</td>\n",
       "      <td>11</td>\n",
       "      <td>2</td>\n",
       "      <td>9</td>\n",
       "      <td>1</td>\n",
       "      <td>1</td>\n",
       "      <td>0</td>\n",
       "      <td>2</td>\n",
       "    </tr>\n",
       "    <tr>\n",
       "      <th>3</th>\n",
       "      <td>615</td>\n",
       "      <td>1</td>\n",
       "      <td>2.5</td>\n",
       "      <td>0</td>\n",
       "      <td>0</td>\n",
       "      <td>0</td>\n",
       "      <td>10</td>\n",
       "      <td>0.8</td>\n",
       "      <td>131</td>\n",
       "      <td>6</td>\n",
       "      <td>9</td>\n",
       "      <td>1216</td>\n",
       "      <td>1786</td>\n",
       "      <td>2769</td>\n",
       "      <td>16</td>\n",
       "      <td>8</td>\n",
       "      <td>11</td>\n",
       "      <td>1</td>\n",
       "      <td>0</td>\n",
       "      <td>0</td>\n",
       "      <td>2</td>\n",
       "    </tr>\n",
       "    <tr>\n",
       "      <th>4</th>\n",
       "      <td>1821</td>\n",
       "      <td>1</td>\n",
       "      <td>1.2</td>\n",
       "      <td>0</td>\n",
       "      <td>13</td>\n",
       "      <td>1</td>\n",
       "      <td>44</td>\n",
       "      <td>0.6</td>\n",
       "      <td>141</td>\n",
       "      <td>2</td>\n",
       "      <td>14</td>\n",
       "      <td>1208</td>\n",
       "      <td>1212</td>\n",
       "      <td>1411</td>\n",
       "      <td>8</td>\n",
       "      <td>2</td>\n",
       "      <td>15</td>\n",
       "      <td>1</td>\n",
       "      <td>1</td>\n",
       "      <td>0</td>\n",
       "      <td>1</td>\n",
       "    </tr>\n",
       "  </tbody>\n",
       "</table>\n",
       "</div>"
      ],
      "text/plain": [
       "   battery_power  blue  clock_speed  dual_sim  fc  four_g  int_memory  m_dep  \\\n",
       "0            842     0          2.2         0   1       0           7    0.6   \n",
       "1           1021     1          0.5         1   0       1          53    0.7   \n",
       "2            563     1          0.5         1   2       1          41    0.9   \n",
       "3            615     1          2.5         0   0       0          10    0.8   \n",
       "4           1821     1          1.2         0  13       1          44    0.6   \n",
       "\n",
       "   mobile_wt  n_cores  pc  px_height  px_width   ram  sc_h  sc_w  talk_time  \\\n",
       "0        188        2   2         20       756  2549     9     7         19   \n",
       "1        136        3   6        905      1988  2631    17     3          7   \n",
       "2        145        5   6       1263      1716  2603    11     2          9   \n",
       "3        131        6   9       1216      1786  2769    16     8         11   \n",
       "4        141        2  14       1208      1212  1411     8     2         15   \n",
       "\n",
       "   three_g  touch_screen  wifi  price_range  \n",
       "0        0             0     1            1  \n",
       "1        1             1     0            2  \n",
       "2        1             1     0            2  \n",
       "3        1             0     0            2  \n",
       "4        1             1     0            1  "
      ]
     },
     "execution_count": 379,
     "metadata": {},
     "output_type": "execute_result"
    }
   ],
   "source": [
    "raw_data = pd.read_csv(\"data/mobile_classification - Train.csv\")\n",
    "raw_data = raw_data.drop(columns=['Unnamed: 0'])\n",
    "raw_data.head()"
   ]
  },
  {
   "cell_type": "code",
   "execution_count": 380,
   "id": "109e127f-20a5-4df7-82d8-0d9aed00ad46",
   "metadata": {},
   "outputs": [
    {
     "data": {
      "text/plain": [
       "(2000, 21)"
      ]
     },
     "execution_count": 380,
     "metadata": {},
     "output_type": "execute_result"
    }
   ],
   "source": [
    "raw_data.shape"
   ]
  },
  {
   "cell_type": "code",
   "execution_count": 381,
   "id": "f5bb98c5-c0bf-422b-9a27-be9adaf155b1",
   "metadata": {},
   "outputs": [
    {
     "data": {
      "text/html": [
       "<div>\n",
       "<style scoped>\n",
       "    .dataframe tbody tr th:only-of-type {\n",
       "        vertical-align: middle;\n",
       "    }\n",
       "\n",
       "    .dataframe tbody tr th {\n",
       "        vertical-align: top;\n",
       "    }\n",
       "\n",
       "    .dataframe thead th {\n",
       "        text-align: right;\n",
       "    }\n",
       "</style>\n",
       "<table border=\"1\" class=\"dataframe\">\n",
       "  <thead>\n",
       "    <tr style=\"text-align: right;\">\n",
       "      <th></th>\n",
       "      <th>battery_power</th>\n",
       "      <th>blue</th>\n",
       "      <th>clock_speed</th>\n",
       "      <th>dual_sim</th>\n",
       "      <th>fc</th>\n",
       "      <th>four_g</th>\n",
       "      <th>int_memory</th>\n",
       "      <th>m_dep</th>\n",
       "      <th>mobile_wt</th>\n",
       "      <th>n_cores</th>\n",
       "      <th>pc</th>\n",
       "      <th>px_height</th>\n",
       "      <th>px_width</th>\n",
       "      <th>ram</th>\n",
       "      <th>sc_h</th>\n",
       "      <th>sc_w</th>\n",
       "      <th>talk_time</th>\n",
       "      <th>three_g</th>\n",
       "      <th>touch_screen</th>\n",
       "      <th>wifi</th>\n",
       "      <th>price_range</th>\n",
       "    </tr>\n",
       "  </thead>\n",
       "  <tbody>\n",
       "  </tbody>\n",
       "</table>\n",
       "</div>"
      ],
      "text/plain": [
       "Empty DataFrame\n",
       "Columns: [battery_power, blue, clock_speed, dual_sim, fc, four_g, int_memory, m_dep, mobile_wt, n_cores, pc, px_height, px_width, ram, sc_h, sc_w, talk_time, three_g, touch_screen, wifi, price_range]\n",
       "Index: []"
      ]
     },
     "execution_count": 381,
     "metadata": {},
     "output_type": "execute_result"
    }
   ],
   "source": [
    "# Display data yg duplicate\n",
    "raw_data[raw_data.duplicated()]"
   ]
  },
  {
   "cell_type": "code",
   "execution_count": 382,
   "id": "823d905a-5e8f-422e-a4bc-cdd5a7c8b02e",
   "metadata": {},
   "outputs": [
    {
     "data": {
      "text/plain": [
       "battery_power    0\n",
       "blue             0\n",
       "clock_speed      0\n",
       "dual_sim         0\n",
       "fc               0\n",
       "four_g           0\n",
       "int_memory       0\n",
       "m_dep            0\n",
       "mobile_wt        0\n",
       "n_cores          0\n",
       "pc               0\n",
       "px_height        0\n",
       "px_width         0\n",
       "ram              0\n",
       "sc_h             0\n",
       "sc_w             0\n",
       "talk_time        0\n",
       "three_g          0\n",
       "touch_screen     0\n",
       "wifi             0\n",
       "price_range      0\n",
       "dtype: int64"
      ]
     },
     "execution_count": 382,
     "metadata": {},
     "output_type": "execute_result"
    }
   ],
   "source": [
    "raw_data.isna().sum()"
   ]
  },
  {
   "cell_type": "code",
   "execution_count": 383,
   "id": "61dab3d7-6890-4852-ab4d-beede10f3415",
   "metadata": {},
   "outputs": [
    {
     "name": "stdout",
     "output_type": "stream",
     "text": [
      "<class 'pandas.core.frame.DataFrame'>\n",
      "RangeIndex: 2000 entries, 0 to 1999\n",
      "Data columns (total 21 columns):\n",
      " #   Column         Non-Null Count  Dtype  \n",
      "---  ------         --------------  -----  \n",
      " 0   battery_power  2000 non-null   int64  \n",
      " 1   blue           2000 non-null   int64  \n",
      " 2   clock_speed    2000 non-null   float64\n",
      " 3   dual_sim       2000 non-null   int64  \n",
      " 4   fc             2000 non-null   int64  \n",
      " 5   four_g         2000 non-null   int64  \n",
      " 6   int_memory     2000 non-null   int64  \n",
      " 7   m_dep          2000 non-null   float64\n",
      " 8   mobile_wt      2000 non-null   int64  \n",
      " 9   n_cores        2000 non-null   int64  \n",
      " 10  pc             2000 non-null   int64  \n",
      " 11  px_height      2000 non-null   int64  \n",
      " 12  px_width       2000 non-null   int64  \n",
      " 13  ram            2000 non-null   int64  \n",
      " 14  sc_h           2000 non-null   int64  \n",
      " 15  sc_w           2000 non-null   int64  \n",
      " 16  talk_time      2000 non-null   int64  \n",
      " 17  three_g        2000 non-null   int64  \n",
      " 18  touch_screen   2000 non-null   int64  \n",
      " 19  wifi           2000 non-null   int64  \n",
      " 20  price_range    2000 non-null   int64  \n",
      "dtypes: float64(2), int64(19)\n",
      "memory usage: 328.3 KB\n"
     ]
    }
   ],
   "source": [
    "raw_data.info()"
   ]
  },
  {
   "cell_type": "markdown",
   "id": "a3e598fb-8525-4706-9312-ef707c46999f",
   "metadata": {},
   "source": [
    "### Visualisasi persebaran data dari setiap variabel predictor"
   ]
  },
  {
   "cell_type": "markdown",
   "id": "2c12f771-de0b-41cb-bb4b-d376f677c4de",
   "metadata": {},
   "source": [
    "Menggunakan method `nunique` untuk mengetahui keunikan data, dari sini bisa menentuka apakah variable data diskrit atuau data kontinu"
   ]
  },
  {
   "cell_type": "code",
   "execution_count": 384,
   "id": "9b1faf2b-615f-4749-80c1-b070c990edaf",
   "metadata": {},
   "outputs": [
    {
     "name": "stdout",
     "output_type": "stream",
     "text": [
      "['blue', 'dual_sim', 'four_g', 'n_cores', 'three_g', 'touch_screen', 'wifi']\n",
      "['battery_power', 'clock_speed', 'fc', 'int_memory', 'm_dep', 'mobile_wt', 'pc', 'px_height', 'px_width', 'ram', 'sc_h', 'sc_w', 'talk_time']\n"
     ]
    }
   ],
   "source": [
    "## Menampilan uniq value dari setiap kolom\n",
    "data_diskrit = raw_data.nunique()[(raw_data.nunique() <= 8) & (raw_data.nunique() != 4)].index.to_list() ## Bilangan bulat\n",
    "data_kontinue = raw_data.nunique()[(raw_data.nunique() > 8) & (raw_data.nunique() != 4)].index.to_list()\n",
    "\n",
    "print(data_diskrit)\n",
    "print(data_kontinue)"
   ]
  },
  {
   "cell_type": "code",
   "execution_count": 385,
   "id": "9db963d0-9566-4a12-8abe-17995c0c5b44",
   "metadata": {},
   "outputs": [
    {
     "data": {
      "image/png": "[encoded data removed]",
      "text/plain": [
       "<Figure size 1000x1000 with 1 Axes>"
      ]
     },
     "metadata": {},
     "output_type": "display_data"
    },
    {
     "data": {
      "image/png": "[encoded data removed]",
      "text/plain": [
       "<Figure size 1000x1000 with 1 Axes>"
      ]
     },
     "metadata": {},
     "output_type": "display_data"
    },
    {
     "data": {
      "image/png": "[encoded data removed]",
      "text/plain": [
       "<Figure size 1000x1000 with 1 Axes>"
      ]
     },
     "metadata": {},
     "output_type": "display_data"
    }
   ],
   "source": [
    "palette = ['#DEE0D5' ,'#A7C5C5' ,  '#E2AC48' , '#B96028' , '#983C2D']\n",
    "# print(data_kontinue[10:])\n",
    "#Ploting distribution and range of each column\n",
    "plt.figure(figsize = (10,10))\n",
    "plt.title(\"Rentang dan distribusi 1\")\n",
    "plt.xticks(rotation=45)\n",
    "df_cont1 = raw_data[data_kontinue[0:5]]\n",
    "sns.stripplot( data = df_cont1  , palette= palette )\n",
    "plt.show()\n",
    "\n",
    "#Ploting distribution and range of each column\n",
    "plt.figure(figsize = (10,10))\n",
    "plt.title(\"Rentang dan distribusi 2\")\n",
    "plt.xticks(rotation=45)\n",
    "df_cont1 = raw_data[data_kontinue[5:10]]\n",
    "sns.stripplot( data = df_cont1  , palette= palette )\n",
    "plt.show()\n",
    "\n",
    "palette = ['#DEE0D5' ,'#A7C5C5' ,  '#E2AC48']\n",
    "#Ploting distribution and range of each column\n",
    "plt.figure(figsize = (10,10))\n",
    "plt.title(\"Rentang dan distribusi 3\")\n",
    "plt.xticks(rotation=45)\n",
    "df_cont1 = raw_data[data_kontinue[10:]]\n",
    "sns.stripplot( data = df_cont1  , palette= palette )\n",
    "plt.show()"
   ]
  },
  {
   "cell_type": "code",
   "execution_count": 386,
   "id": "68590d20-f206-432d-ac7e-d1348bbbd74b",
   "metadata": {},
   "outputs": [
    {
     "data": {
      "image/png": "[encoded data removed]",
      "text/plain": [
       "<Figure size 1000x100 with 1 Axes>"
      ]
     },
     "metadata": {},
     "output_type": "display_data"
    },
    {
     "name": "stdout",
     "output_type": "stream",
     "text": [
      "blue\n"
     ]
    },
    {
     "data": {
      "image/png": "[encoded data removed]",
      "text/plain": [
       "<Figure size 1000x100 with 1 Axes>"
      ]
     },
     "metadata": {},
     "output_type": "display_data"
    },
    {
     "name": "stdout",
     "output_type": "stream",
     "text": [
      "dual_sim\n"
     ]
    },
    {
     "data": {
      "image/png": "[encoded data removed]",
      "text/plain": [
       "<Figure size 1000x100 with 1 Axes>"
      ]
     },
     "metadata": {},
     "output_type": "display_data"
    },
    {
     "name": "stdout",
     "output_type": "stream",
     "text": [
      "four_g\n"
     ]
    },
    {
     "data": {
      "image/png": "[encoded data removed]",
      "text/plain": [
       "<Figure size 1000x100 with 1 Axes>"
      ]
     },
     "metadata": {},
     "output_type": "display_data"
    },
    {
     "name": "stdout",
     "output_type": "stream",
     "text": [
      "n_cores\n"
     ]
    },
    {
     "data": {
      "image/png": "[encoded data removed]",
      "text/plain": [
       "<Figure size 1000x100 with 1 Axes>"
      ]
     },
     "metadata": {},
     "output_type": "display_data"
    },
    {
     "name": "stdout",
     "output_type": "stream",
     "text": [
      "three_g\n"
     ]
    },
    {
     "data": {
      "image/png": "[encoded data removed]",
      "text/plain": [
       "<Figure size 1000x100 with 1 Axes>"
      ]
     },
     "metadata": {},
     "output_type": "display_data"
    },
    {
     "name": "stdout",
     "output_type": "stream",
     "text": [
      "touch_screen\n"
     ]
    },
    {
     "data": {
      "image/png": "[encoded data removed]",
      "text/plain": [
       "<Figure size 1000x100 with 1 Axes>"
      ]
     },
     "metadata": {},
     "output_type": "display_data"
    },
    {
     "name": "stdout",
     "output_type": "stream",
     "text": [
      "wifi\n"
     ]
    }
   ],
   "source": [
    "for a in data_diskrit:\n",
    "    plt.figure(figsize=(10,1))\n",
    "    sns.boxplot(x = raw_data[a], linewidth=1, showfliers=True)\n",
    "    plt.xlabel(a, labelpad = 12)\n",
    "    plt.show()\n",
    "    print (a)"
   ]
  },
  {
   "cell_type": "markdown",
   "id": "c3c35724-f27f-4409-84f9-4f12114256a5",
   "metadata": {},
   "source": [
    "## Data Describvem"
   ]
  },
  {
   "cell_type": "code",
   "execution_count": 387,
   "id": "cf430e22-136d-4a36-8183-40146e6edc76",
   "metadata": {},
   "outputs": [
    {
     "data": {
      "text/html": [
       "<div>\n",
       "<style scoped>\n",
       "    .dataframe tbody tr th:only-of-type {\n",
       "        vertical-align: middle;\n",
       "    }\n",
       "\n",
       "    .dataframe tbody tr th {\n",
       "        vertical-align: top;\n",
       "    }\n",
       "\n",
       "    .dataframe thead th {\n",
       "        text-align: right;\n",
       "    }\n",
       "</style>\n",
       "<table border=\"1\" class=\"dataframe\">\n",
       "  <thead>\n",
       "    <tr style=\"text-align: right;\">\n",
       "      <th></th>\n",
       "      <th>battery_power</th>\n",
       "      <th>blue</th>\n",
       "      <th>clock_speed</th>\n",
       "      <th>dual_sim</th>\n",
       "      <th>fc</th>\n",
       "      <th>four_g</th>\n",
       "      <th>int_memory</th>\n",
       "      <th>m_dep</th>\n",
       "      <th>mobile_wt</th>\n",
       "      <th>n_cores</th>\n",
       "      <th>pc</th>\n",
       "      <th>px_height</th>\n",
       "      <th>px_width</th>\n",
       "      <th>ram</th>\n",
       "      <th>sc_h</th>\n",
       "      <th>sc_w</th>\n",
       "      <th>talk_time</th>\n",
       "      <th>three_g</th>\n",
       "      <th>touch_screen</th>\n",
       "      <th>wifi</th>\n",
       "      <th>price_range</th>\n",
       "    </tr>\n",
       "  </thead>\n",
       "  <tbody>\n",
       "    <tr>\n",
       "      <th>count</th>\n",
       "      <td>2000.000000</td>\n",
       "      <td>2000.0000</td>\n",
       "      <td>2000.000000</td>\n",
       "      <td>2000.000000</td>\n",
       "      <td>2000.000000</td>\n",
       "      <td>2000.000000</td>\n",
       "      <td>2000.000000</td>\n",
       "      <td>2000.000000</td>\n",
       "      <td>2000.000000</td>\n",
       "      <td>2000.000000</td>\n",
       "      <td>2000.000000</td>\n",
       "      <td>2000.000000</td>\n",
       "      <td>2000.000000</td>\n",
       "      <td>2000.000000</td>\n",
       "      <td>2000.000000</td>\n",
       "      <td>2000.000000</td>\n",
       "      <td>2000.000000</td>\n",
       "      <td>2000.000000</td>\n",
       "      <td>2000.000000</td>\n",
       "      <td>2000.000000</td>\n",
       "      <td>2000.000000</td>\n",
       "    </tr>\n",
       "    <tr>\n",
       "      <th>mean</th>\n",
       "      <td>1238.518500</td>\n",
       "      <td>0.4950</td>\n",
       "      <td>1.522250</td>\n",
       "      <td>0.509500</td>\n",
       "      <td>4.309500</td>\n",
       "      <td>0.521500</td>\n",
       "      <td>32.046500</td>\n",
       "      <td>0.501750</td>\n",
       "      <td>140.249000</td>\n",
       "      <td>4.520500</td>\n",
       "      <td>9.916500</td>\n",
       "      <td>645.108000</td>\n",
       "      <td>1251.515500</td>\n",
       "      <td>2124.213000</td>\n",
       "      <td>12.306500</td>\n",
       "      <td>5.767000</td>\n",
       "      <td>11.011000</td>\n",
       "      <td>0.761500</td>\n",
       "      <td>0.503000</td>\n",
       "      <td>0.507000</td>\n",
       "      <td>1.500000</td>\n",
       "    </tr>\n",
       "    <tr>\n",
       "      <th>std</th>\n",
       "      <td>439.418206</td>\n",
       "      <td>0.5001</td>\n",
       "      <td>0.816004</td>\n",
       "      <td>0.500035</td>\n",
       "      <td>4.341444</td>\n",
       "      <td>0.499662</td>\n",
       "      <td>18.145715</td>\n",
       "      <td>0.288416</td>\n",
       "      <td>35.399655</td>\n",
       "      <td>2.287837</td>\n",
       "      <td>6.064315</td>\n",
       "      <td>443.780811</td>\n",
       "      <td>432.199447</td>\n",
       "      <td>1084.732044</td>\n",
       "      <td>4.213245</td>\n",
       "      <td>4.356398</td>\n",
       "      <td>5.463955</td>\n",
       "      <td>0.426273</td>\n",
       "      <td>0.500116</td>\n",
       "      <td>0.500076</td>\n",
       "      <td>1.118314</td>\n",
       "    </tr>\n",
       "    <tr>\n",
       "      <th>min</th>\n",
       "      <td>501.000000</td>\n",
       "      <td>0.0000</td>\n",
       "      <td>0.500000</td>\n",
       "      <td>0.000000</td>\n",
       "      <td>0.000000</td>\n",
       "      <td>0.000000</td>\n",
       "      <td>2.000000</td>\n",
       "      <td>0.100000</td>\n",
       "      <td>80.000000</td>\n",
       "      <td>1.000000</td>\n",
       "      <td>0.000000</td>\n",
       "      <td>0.000000</td>\n",
       "      <td>500.000000</td>\n",
       "      <td>256.000000</td>\n",
       "      <td>5.000000</td>\n",
       "      <td>0.000000</td>\n",
       "      <td>2.000000</td>\n",
       "      <td>0.000000</td>\n",
       "      <td>0.000000</td>\n",
       "      <td>0.000000</td>\n",
       "      <td>0.000000</td>\n",
       "    </tr>\n",
       "    <tr>\n",
       "      <th>25%</th>\n",
       "      <td>851.750000</td>\n",
       "      <td>0.0000</td>\n",
       "      <td>0.700000</td>\n",
       "      <td>0.000000</td>\n",
       "      <td>1.000000</td>\n",
       "      <td>0.000000</td>\n",
       "      <td>16.000000</td>\n",
       "      <td>0.200000</td>\n",
       "      <td>109.000000</td>\n",
       "      <td>3.000000</td>\n",
       "      <td>5.000000</td>\n",
       "      <td>282.750000</td>\n",
       "      <td>874.750000</td>\n",
       "      <td>1207.500000</td>\n",
       "      <td>9.000000</td>\n",
       "      <td>2.000000</td>\n",
       "      <td>6.000000</td>\n",
       "      <td>1.000000</td>\n",
       "      <td>0.000000</td>\n",
       "      <td>0.000000</td>\n",
       "      <td>0.750000</td>\n",
       "    </tr>\n",
       "    <tr>\n",
       "      <th>50%</th>\n",
       "      <td>1226.000000</td>\n",
       "      <td>0.0000</td>\n",
       "      <td>1.500000</td>\n",
       "      <td>1.000000</td>\n",
       "      <td>3.000000</td>\n",
       "      <td>1.000000</td>\n",
       "      <td>32.000000</td>\n",
       "      <td>0.500000</td>\n",
       "      <td>141.000000</td>\n",
       "      <td>4.000000</td>\n",
       "      <td>10.000000</td>\n",
       "      <td>564.000000</td>\n",
       "      <td>1247.000000</td>\n",
       "      <td>2146.500000</td>\n",
       "      <td>12.000000</td>\n",
       "      <td>5.000000</td>\n",
       "      <td>11.000000</td>\n",
       "      <td>1.000000</td>\n",
       "      <td>1.000000</td>\n",
       "      <td>1.000000</td>\n",
       "      <td>1.500000</td>\n",
       "    </tr>\n",
       "    <tr>\n",
       "      <th>75%</th>\n",
       "      <td>1615.250000</td>\n",
       "      <td>1.0000</td>\n",
       "      <td>2.200000</td>\n",
       "      <td>1.000000</td>\n",
       "      <td>7.000000</td>\n",
       "      <td>1.000000</td>\n",
       "      <td>48.000000</td>\n",
       "      <td>0.800000</td>\n",
       "      <td>170.000000</td>\n",
       "      <td>7.000000</td>\n",
       "      <td>15.000000</td>\n",
       "      <td>947.250000</td>\n",
       "      <td>1633.000000</td>\n",
       "      <td>3064.500000</td>\n",
       "      <td>16.000000</td>\n",
       "      <td>9.000000</td>\n",
       "      <td>16.000000</td>\n",
       "      <td>1.000000</td>\n",
       "      <td>1.000000</td>\n",
       "      <td>1.000000</td>\n",
       "      <td>2.250000</td>\n",
       "    </tr>\n",
       "    <tr>\n",
       "      <th>max</th>\n",
       "      <td>1998.000000</td>\n",
       "      <td>1.0000</td>\n",
       "      <td>3.000000</td>\n",
       "      <td>1.000000</td>\n",
       "      <td>19.000000</td>\n",
       "      <td>1.000000</td>\n",
       "      <td>64.000000</td>\n",
       "      <td>1.000000</td>\n",
       "      <td>200.000000</td>\n",
       "      <td>8.000000</td>\n",
       "      <td>20.000000</td>\n",
       "      <td>1960.000000</td>\n",
       "      <td>1998.000000</td>\n",
       "      <td>3998.000000</td>\n",
       "      <td>19.000000</td>\n",
       "      <td>18.000000</td>\n",
       "      <td>20.000000</td>\n",
       "      <td>1.000000</td>\n",
       "      <td>1.000000</td>\n",
       "      <td>1.000000</td>\n",
       "      <td>3.000000</td>\n",
       "    </tr>\n",
       "  </tbody>\n",
       "</table>\n",
       "</div>"
      ],
      "text/plain": [
       "       battery_power       blue  clock_speed     dual_sim           fc  \\\n",
       "count    2000.000000  2000.0000  2000.000000  2000.000000  2000.000000   \n",
       "mean     1238.518500     0.4950     1.522250     0.509500     4.309500   \n",
       "std       439.418206     0.5001     0.816004     0.500035     4.341444   \n",
       "min       501.000000     0.0000     0.500000     0.000000     0.000000   \n",
       "25%       851.750000     0.0000     0.700000     0.000000     1.000000   \n",
       "50%      1226.000000     0.0000     1.500000     1.000000     3.000000   \n",
       "75%      1615.250000     1.0000     2.200000     1.000000     7.000000   \n",
       "max      1998.000000     1.0000     3.000000     1.000000    19.000000   \n",
       "\n",
       "            four_g   int_memory        m_dep    mobile_wt      n_cores  \\\n",
       "count  2000.000000  2000.000000  2000.000000  2000.000000  2000.000000   \n",
       "mean      0.521500    32.046500     0.501750   140.249000     4.520500   \n",
       "std       0.499662    18.145715     0.288416    35.399655     2.287837   \n",
       "min       0.000000     2.000000     0.100000    80.000000     1.000000   \n",
       "25%       0.000000    16.000000     0.200000   109.000000     3.000000   \n",
       "50%       1.000000    32.000000     0.500000   141.000000     4.000000   \n",
       "75%       1.000000    48.000000     0.800000   170.000000     7.000000   \n",
       "max       1.000000    64.000000     1.000000   200.000000     8.000000   \n",
       "\n",
       "                pc    px_height     px_width          ram         sc_h  \\\n",
       "count  2000.000000  2000.000000  2000.000000  2000.000000  2000.000000   \n",
       "mean      9.916500   645.108000  1251.515500  2124.213000    12.306500   \n",
       "std       6.064315   443.780811   432.199447  1084.732044     4.213245   \n",
       "min       0.000000     0.000000   500.000000   256.000000     5.000000   \n",
       "25%       5.000000   282.750000   874.750000  1207.500000     9.000000   \n",
       "50%      10.000000   564.000000  1247.000000  2146.500000    12.000000   \n",
       "75%      15.000000   947.250000  1633.000000  3064.500000    16.000000   \n",
       "max      20.000000  1960.000000  1998.000000  3998.000000    19.000000   \n",
       "\n",
       "              sc_w    talk_time      three_g  touch_screen         wifi  \\\n",
       "count  2000.000000  2000.000000  2000.000000   2000.000000  2000.000000   \n",
       "mean      5.767000    11.011000     0.761500      0.503000     0.507000   \n",
       "std       4.356398     5.463955     0.426273      0.500116     0.500076   \n",
       "min       0.000000     2.000000     0.000000      0.000000     0.000000   \n",
       "25%       2.000000     6.000000     1.000000      0.000000     0.000000   \n",
       "50%       5.000000    11.000000     1.000000      1.000000     1.000000   \n",
       "75%       9.000000    16.000000     1.000000      1.000000     1.000000   \n",
       "max      18.000000    20.000000     1.000000      1.000000     1.000000   \n",
       "\n",
       "       price_range  \n",
       "count  2000.000000  \n",
       "mean      1.500000  \n",
       "std       1.118314  \n",
       "min       0.000000  \n",
       "25%       0.750000  \n",
       "50%       1.500000  \n",
       "75%       2.250000  \n",
       "max       3.000000  "
      ]
     },
     "execution_count": 387,
     "metadata": {},
     "output_type": "execute_result"
    }
   ],
   "source": [
    "raw_data.describe()"
   ]
  },
  {
   "cell_type": "markdown",
   "id": "ae8e1eaf-07f7-4ff8-9a1c-de216276dc6a",
   "metadata": {},
   "source": [
    "### Data Explenation"
   ]
  },
  {
   "cell_type": "markdown",
   "id": "7a443f6a-f7db-44b2-9ad8-db9805531eb6",
   "metadata": {},
   "source": [
    "Variabel Prediction (Dependent) pada kasus ini adalah **Price Range** yang ditentukan oleh nilai 0 ~ 3 (Murah ~ Sangat Mahal)"
   ]
  },
  {
   "cell_type": "markdown",
   "id": "e6746d67-16aa-483d-9fad-c9c4324503e6",
   "metadata": {},
   "source": [
    "#### Unique data actual price"
   ]
  },
  {
   "cell_type": "code",
   "execution_count": 388,
   "id": "7b3f3c10-8ccf-4dc7-8655-6672d68f8957",
   "metadata": {},
   "outputs": [
    {
     "data": {
      "text/plain": [
       "array([1, 2, 3, 0], dtype=int64)"
      ]
     },
     "execution_count": 388,
     "metadata": {},
     "output_type": "execute_result"
    }
   ],
   "source": [
    "raw_data['price_range'].unique()"
   ]
  },
  {
   "cell_type": "markdown",
   "id": "df650843-072a-4851-b7eb-454c7a309666",
   "metadata": {},
   "source": [
    "### Split data predictor and prediction also train and test"
   ]
  },
  {
   "cell_type": "code",
   "execution_count": 389,
   "id": "2ebaa659-7f1c-48b8-b3bb-fa4ebfcbd14f",
   "metadata": {},
   "outputs": [],
   "source": [
    "X = raw_data.drop(columns=['price_range'])\n",
    "y = raw_data[['price_range']]"
   ]
  },
  {
   "cell_type": "code",
   "execution_count": 390,
   "id": "1e926036-8181-4255-8d31-b90b2d2858b7",
   "metadata": {},
   "outputs": [
    {
     "data": {
      "text/plain": [
       "((2000, 20), (2000, 1))"
      ]
     },
     "execution_count": 390,
     "metadata": {},
     "output_type": "execute_result"
    }
   ],
   "source": [
    "X.shape, y.shape"
   ]
  },
  {
   "cell_type": "code",
   "execution_count": 391,
   "id": "bbec1bd7-055f-4ea3-9382-6debab3e6df4",
   "metadata": {},
   "outputs": [
    {
     "data": {
      "text/html": [
       "<div>\n",
       "<style scoped>\n",
       "    .dataframe tbody tr th:only-of-type {\n",
       "        vertical-align: middle;\n",
       "    }\n",
       "\n",
       "    .dataframe tbody tr th {\n",
       "        vertical-align: top;\n",
       "    }\n",
       "\n",
       "    .dataframe thead th {\n",
       "        text-align: right;\n",
       "    }\n",
       "</style>\n",
       "<table border=\"1\" class=\"dataframe\">\n",
       "  <thead>\n",
       "    <tr style=\"text-align: right;\">\n",
       "      <th></th>\n",
       "      <th>price_range</th>\n",
       "    </tr>\n",
       "  </thead>\n",
       "  <tbody>\n",
       "    <tr>\n",
       "      <th>0</th>\n",
       "      <td>1</td>\n",
       "    </tr>\n",
       "    <tr>\n",
       "      <th>1</th>\n",
       "      <td>2</td>\n",
       "    </tr>\n",
       "    <tr>\n",
       "      <th>2</th>\n",
       "      <td>2</td>\n",
       "    </tr>\n",
       "    <tr>\n",
       "      <th>3</th>\n",
       "      <td>2</td>\n",
       "    </tr>\n",
       "    <tr>\n",
       "      <th>4</th>\n",
       "      <td>1</td>\n",
       "    </tr>\n",
       "  </tbody>\n",
       "</table>\n",
       "</div>"
      ],
      "text/plain": [
       "   price_range\n",
       "0            1\n",
       "1            2\n",
       "2            2\n",
       "3            2\n",
       "4            1"
      ]
     },
     "execution_count": 391,
     "metadata": {},
     "output_type": "execute_result"
    }
   ],
   "source": [
    "y.head()"
   ]
  },
  {
   "cell_type": "markdown",
   "id": "4e70bb1b-ccaf-459c-a1e9-625d659249b0",
   "metadata": {},
   "source": [
    "## Membuat Model"
   ]
  },
  {
   "cell_type": "code",
   "execution_count": 445,
   "id": "13933171-e3fd-42f1-b9a0-5e77ac04809a",
   "metadata": {},
   "outputs": [
    {
     "name": "stdout",
     "output_type": "stream",
     "text": [
      "X Train (1600, 20)\n",
      "X Test (400, 20)\n",
      "y Train (1600, 1)\n",
      "y Test (400, 1)\n"
     ]
    },
    {
     "data": {
      "text/html": [
       "<style>#sk-container-id-7 {\n",
       "  /* Definition of color scheme common for light and dark mode */\n",
       "  --sklearn-color-text: black;\n",
       "  --sklearn-color-line: gray;\n",
       "  /* Definition of color scheme for unfitted estimators */\n",
       "  --sklearn-color-unfitted-level-0: #fff5e6;\n",
       "  --sklearn-color-unfitted-level-1: #f6e4d2;\n",
       "  --sklearn-color-unfitted-level-2: #ffe0b3;\n",
       "  --sklearn-color-unfitted-level-3: chocolate;\n",
       "  /* Definition of color scheme for fitted estimators */\n",
       "  --sklearn-color-fitted-level-0: #f0f8ff;\n",
       "  --sklearn-color-fitted-level-1: #d4ebff;\n",
       "  --sklearn-color-fitted-level-2: #b3dbfd;\n",
       "  --sklearn-color-fitted-level-3: cornflowerblue;\n",
       "\n",
       "  /* Specific color for light theme */\n",
       "  --sklearn-color-text-on-default-background: var(--sg-text-color, var(--theme-code-foreground, var(--jp-content-font-color1, black)));\n",
       "  --sklearn-color-background: var(--sg-background-color, var(--theme-background, var(--jp-layout-color0, white)));\n",
       "  --sklearn-color-border-box: var(--sg-text-color, var(--theme-code-foreground, var(--jp-content-font-color1, black)));\n",
       "  --sklearn-color-icon: #696969;\n",
       "\n",
       "  @media (prefers-color-scheme: dark) {\n",
       "    /* Redefinition of color scheme for dark theme */\n",
       "    --sklearn-color-text-on-default-background: var(--sg-text-color, var(--theme-code-foreground, var(--jp-content-font-color1, white)));\n",
       "    --sklearn-color-background: var(--sg-background-color, var(--theme-background, var(--jp-layout-color0, #111)));\n",
       "    --sklearn-color-border-box: var(--sg-text-color, var(--theme-code-foreground, var(--jp-content-font-color1, white)));\n",
       "    --sklearn-color-icon: #878787;\n",
       "  }\n",
       "}\n",
       "\n",
       "#sk-container-id-7 {\n",
       "  color: var(--sklearn-color-text);\n",
       "}\n",
       "\n",
       "#sk-container-id-7 pre {\n",
       "  padding: 0;\n",
       "}\n",
       "\n",
       "#sk-container-id-7 input.sk-hidden--visually {\n",
       "  border: 0;\n",
       "  clip: rect(1px 1px 1px 1px);\n",
       "  clip: rect(1px, 1px, 1px, 1px);\n",
       "  height: 1px;\n",
       "  margin: -1px;\n",
       "  overflow: hidden;\n",
       "  padding: 0;\n",
       "  position: absolute;\n",
       "  width: 1px;\n",
       "}\n",
       "\n",
       "#sk-container-id-7 div.sk-dashed-wrapped {\n",
       "  border: 1px dashed var(--sklearn-color-line);\n",
       "  margin: 0 0.4em 0.5em 0.4em;\n",
       "  box-sizing: border-box;\n",
       "  padding-bottom: 0.4em;\n",
       "  background-color: var(--sklearn-color-background);\n",
       "}\n",
       "\n",
       "#sk-container-id-7 div.sk-container {\n",
       "  /* jupyter's `normalize.less` sets `[hidden] { display: none; }`\n",
       "     but bootstrap.min.css set `[hidden] { display: none !important; }`\n",
       "     so we also need the `!important` here to be able to override the\n",
       "     default hidden behavior on the sphinx rendered scikit-learn.org.\n",
       "     See: https://github.com/scikit-learn/scikit-learn/issues/21755 */\n",
       "  display: inline-block !important;\n",
       "  position: relative;\n",
       "}\n",
       "\n",
       "#sk-container-id-7 div.sk-text-repr-fallback {\n",
       "  display: none;\n",
       "}\n",
       "\n",
       "div.sk-parallel-item,\n",
       "div.sk-serial,\n",
       "div.sk-item {\n",
       "  /* draw centered vertical line to link estimators */\n",
       "  background-image: linear-gradient(var(--sklearn-color-text-on-default-background), var(--sklearn-color-text-on-default-background));\n",
       "  background-size: 2px 100%;\n",
       "  background-repeat: no-repeat;\n",
       "  background-position: center center;\n",
       "}\n",
       "\n",
       "/* Parallel-specific style estimator block */\n",
       "\n",
       "#sk-container-id-7 div.sk-parallel-item::after {\n",
       "  content: \"\";\n",
       "  width: 100%;\n",
       "  border-bottom: 2px solid var(--sklearn-color-text-on-default-background);\n",
       "  flex-grow: 1;\n",
       "}\n",
       "\n",
       "#sk-container-id-7 div.sk-parallel {\n",
       "  display: flex;\n",
       "  align-items: stretch;\n",
       "  justify-content: center;\n",
       "  background-color: var(--sklearn-color-background);\n",
       "  position: relative;\n",
       "}\n",
       "\n",
       "#sk-container-id-7 div.sk-parallel-item {\n",
       "  display: flex;\n",
       "  flex-direction: column;\n",
       "}\n",
       "\n",
       "#sk-container-id-7 div.sk-parallel-item:first-child::after {\n",
       "  align-self: flex-end;\n",
       "  width: 50%;\n",
       "}\n",
       "\n",
       "#sk-container-id-7 div.sk-parallel-item:last-child::after {\n",
       "  align-self: flex-start;\n",
       "  width: 50%;\n",
       "}\n",
       "\n",
       "#sk-container-id-7 div.sk-parallel-item:only-child::after {\n",
       "  width: 0;\n",
       "}\n",
       "\n",
       "/* Serial-specific style estimator block */\n",
       "\n",
       "#sk-container-id-7 div.sk-serial {\n",
       "  display: flex;\n",
       "  flex-direction: column;\n",
       "  align-items: center;\n",
       "  background-color: var(--sklearn-color-background);\n",
       "  padding-right: 1em;\n",
       "  padding-left: 1em;\n",
       "}\n",
       "\n",
       "\n",
       "/* Toggleable style: style used for estimator/Pipeline/ColumnTransformer box that is\n",
       "clickable and can be expanded/collapsed.\n",
       "- Pipeline and ColumnTransformer use this feature and define the default style\n",
       "- Estimators will overwrite some part of the style using the `sk-estimator` class\n",
       "*/\n",
       "\n",
       "/* Pipeline and ColumnTransformer style (default) */\n",
       "\n",
       "#sk-container-id-7 div.sk-toggleable {\n",
       "  /* Default theme specific background. It is overwritten whether we have a\n",
       "  specific estimator or a Pipeline/ColumnTransformer */\n",
       "  background-color: var(--sklearn-color-background);\n",
       "}\n",
       "\n",
       "/* Toggleable label */\n",
       "#sk-container-id-7 label.sk-toggleable__label {\n",
       "  cursor: pointer;\n",
       "  display: block;\n",
       "  width: 100%;\n",
       "  margin-bottom: 0;\n",
       "  padding: 0.5em;\n",
       "  box-sizing: border-box;\n",
       "  text-align: center;\n",
       "}\n",
       "\n",
       "#sk-container-id-7 label.sk-toggleable__label-arrow:before {\n",
       "  /* Arrow on the left of the label */\n",
       "  content: \"▸\";\n",
       "  float: left;\n",
       "  margin-right: 0.25em;\n",
       "  color: var(--sklearn-color-icon);\n",
       "}\n",
       "\n",
       "#sk-container-id-7 label.sk-toggleable__label-arrow:hover:before {\n",
       "  color: var(--sklearn-color-text);\n",
       "}\n",
       "\n",
       "/* Toggleable content - dropdown */\n",
       "\n",
       "#sk-container-id-7 div.sk-toggleable__content {\n",
       "  max-height: 0;\n",
       "  max-width: 0;\n",
       "  overflow: hidden;\n",
       "  text-align: left;\n",
       "  /* unfitted */\n",
       "  background-color: var(--sklearn-color-unfitted-level-0);\n",
       "}\n",
       "\n",
       "#sk-container-id-7 div.sk-toggleable__content.fitted {\n",
       "  /* fitted */\n",
       "  background-color: var(--sklearn-color-fitted-level-0);\n",
       "}\n",
       "\n",
       "#sk-container-id-7 div.sk-toggleable__content pre {\n",
       "  margin: 0.2em;\n",
       "  border-radius: 0.25em;\n",
       "  color: var(--sklearn-color-text);\n",
       "  /* unfitted */\n",
       "  background-color: var(--sklearn-color-unfitted-level-0);\n",
       "}\n",
       "\n",
       "#sk-container-id-7 div.sk-toggleable__content.fitted pre {\n",
       "  /* unfitted */\n",
       "  background-color: var(--sklearn-color-fitted-level-0);\n",
       "}\n",
       "\n",
       "#sk-container-id-7 input.sk-toggleable__control:checked~div.sk-toggleable__content {\n",
       "  /* Expand drop-down */\n",
       "  max-height: 200px;\n",
       "  max-width: 100%;\n",
       "  overflow: auto;\n",
       "}\n",
       "\n",
       "#sk-container-id-7 input.sk-toggleable__control:checked~label.sk-toggleable__label-arrow:before {\n",
       "  content: \"▾\";\n",
       "}\n",
       "\n",
       "/* Pipeline/ColumnTransformer-specific style */\n",
       "\n",
       "#sk-container-id-7 div.sk-label input.sk-toggleable__control:checked~label.sk-toggleable__label {\n",
       "  color: var(--sklearn-color-text);\n",
       "  background-color: var(--sklearn-color-unfitted-level-2);\n",
       "}\n",
       "\n",
       "#sk-container-id-7 div.sk-label.fitted input.sk-toggleable__control:checked~label.sk-toggleable__label {\n",
       "  background-color: var(--sklearn-color-fitted-level-2);\n",
       "}\n",
       "\n",
       "/* Estimator-specific style */\n",
       "\n",
       "/* Colorize estimator box */\n",
       "#sk-container-id-7 div.sk-estimator input.sk-toggleable__control:checked~label.sk-toggleable__label {\n",
       "  /* unfitted */\n",
       "  background-color: var(--sklearn-color-unfitted-level-2);\n",
       "}\n",
       "\n",
       "#sk-container-id-7 div.sk-estimator.fitted input.sk-toggleable__control:checked~label.sk-toggleable__label {\n",
       "  /* fitted */\n",
       "  background-color: var(--sklearn-color-fitted-level-2);\n",
       "}\n",
       "\n",
       "#sk-container-id-7 div.sk-label label.sk-toggleable__label,\n",
       "#sk-container-id-7 div.sk-label label {\n",
       "  /* The background is the default theme color */\n",
       "  color: var(--sklearn-color-text-on-default-background);\n",
       "}\n",
       "\n",
       "/* On hover, darken the color of the background */\n",
       "#sk-container-id-7 div.sk-label:hover label.sk-toggleable__label {\n",
       "  color: var(--sklearn-color-text);\n",
       "  background-color: var(--sklearn-color-unfitted-level-2);\n",
       "}\n",
       "\n",
       "/* Label box, darken color on hover, fitted */\n",
       "#sk-container-id-7 div.sk-label.fitted:hover label.sk-toggleable__label.fitted {\n",
       "  color: var(--sklearn-color-text);\n",
       "  background-color: var(--sklearn-color-fitted-level-2);\n",
       "}\n",
       "\n",
       "/* Estimator label */\n",
       "\n",
       "#sk-container-id-7 div.sk-label label {\n",
       "  font-family: monospace;\n",
       "  font-weight: bold;\n",
       "  display: inline-block;\n",
       "  line-height: 1.2em;\n",
       "}\n",
       "\n",
       "#sk-container-id-7 div.sk-label-container {\n",
       "  text-align: center;\n",
       "}\n",
       "\n",
       "/* Estimator-specific */\n",
       "#sk-container-id-7 div.sk-estimator {\n",
       "  font-family: monospace;\n",
       "  border: 1px dotted var(--sklearn-color-border-box);\n",
       "  border-radius: 0.25em;\n",
       "  box-sizing: border-box;\n",
       "  margin-bottom: 0.5em;\n",
       "  /* unfitted */\n",
       "  background-color: var(--sklearn-color-unfitted-level-0);\n",
       "}\n",
       "\n",
       "#sk-container-id-7 div.sk-estimator.fitted {\n",
       "  /* fitted */\n",
       "  background-color: var(--sklearn-color-fitted-level-0);\n",
       "}\n",
       "\n",
       "/* on hover */\n",
       "#sk-container-id-7 div.sk-estimator:hover {\n",
       "  /* unfitted */\n",
       "  background-color: var(--sklearn-color-unfitted-level-2);\n",
       "}\n",
       "\n",
       "#sk-container-id-7 div.sk-estimator.fitted:hover {\n",
       "  /* fitted */\n",
       "  background-color: var(--sklearn-color-fitted-level-2);\n",
       "}\n",
       "\n",
       "/* Specification for estimator info (e.g. \"i\" and \"?\") */\n",
       "\n",
       "/* Common style for \"i\" and \"?\" */\n",
       "\n",
       ".sk-estimator-doc-link,\n",
       "a:link.sk-estimator-doc-link,\n",
       "a:visited.sk-estimator-doc-link {\n",
       "  float: right;\n",
       "  font-size: smaller;\n",
       "  line-height: 1em;\n",
       "  font-family: monospace;\n",
       "  background-color: var(--sklearn-color-background);\n",
       "  border-radius: 1em;\n",
       "  height: 1em;\n",
       "  width: 1em;\n",
       "  text-decoration: none !important;\n",
       "  margin-left: 1ex;\n",
       "  /* unfitted */\n",
       "  border: var(--sklearn-color-unfitted-level-1) 1pt solid;\n",
       "  color: var(--sklearn-color-unfitted-level-1);\n",
       "}\n",
       "\n",
       ".sk-estimator-doc-link.fitted,\n",
       "a:link.sk-estimator-doc-link.fitted,\n",
       "a:visited.sk-estimator-doc-link.fitted {\n",
       "  /* fitted */\n",
       "  border: var(--sklearn-color-fitted-level-1) 1pt solid;\n",
       "  color: var(--sklearn-color-fitted-level-1);\n",
       "}\n",
       "\n",
       "/* On hover */\n",
       "div.sk-estimator:hover .sk-estimator-doc-link:hover,\n",
       ".sk-estimator-doc-link:hover,\n",
       "div.sk-label-container:hover .sk-estimator-doc-link:hover,\n",
       ".sk-estimator-doc-link:hover {\n",
       "  /* unfitted */\n",
       "  background-color: var(--sklearn-color-unfitted-level-3);\n",
       "  color: var(--sklearn-color-background);\n",
       "  text-decoration: none;\n",
       "}\n",
       "\n",
       "div.sk-estimator.fitted:hover .sk-estimator-doc-link.fitted:hover,\n",
       ".sk-estimator-doc-link.fitted:hover,\n",
       "div.sk-label-container:hover .sk-estimator-doc-link.fitted:hover,\n",
       ".sk-estimator-doc-link.fitted:hover {\n",
       "  /* fitted */\n",
       "  background-color: var(--sklearn-color-fitted-level-3);\n",
       "  color: var(--sklearn-color-background);\n",
       "  text-decoration: none;\n",
       "}\n",
       "\n",
       "/* Span, style for the box shown on hovering the info icon */\n",
       ".sk-estimator-doc-link span {\n",
       "  display: none;\n",
       "  z-index: 9999;\n",
       "  position: relative;\n",
       "  font-weight: normal;\n",
       "  right: .2ex;\n",
       "  padding: .5ex;\n",
       "  margin: .5ex;\n",
       "  width: min-content;\n",
       "  min-width: 20ex;\n",
       "  max-width: 50ex;\n",
       "  color: var(--sklearn-color-text);\n",
       "  box-shadow: 2pt 2pt 4pt #999;\n",
       "  /* unfitted */\n",
       "  background: var(--sklearn-color-unfitted-level-0);\n",
       "  border: .5pt solid var(--sklearn-color-unfitted-level-3);\n",
       "}\n",
       "\n",
       ".sk-estimator-doc-link.fitted span {\n",
       "  /* fitted */\n",
       "  background: var(--sklearn-color-fitted-level-0);\n",
       "  border: var(--sklearn-color-fitted-level-3);\n",
       "}\n",
       "\n",
       ".sk-estimator-doc-link:hover span {\n",
       "  display: block;\n",
       "}\n",
       "\n",
       "/* \"?\"-specific style due to the `<a>` HTML tag */\n",
       "\n",
       "#sk-container-id-7 a.estimator_doc_link {\n",
       "  float: right;\n",
       "  font-size: 1rem;\n",
       "  line-height: 1em;\n",
       "  font-family: monospace;\n",
       "  background-color: var(--sklearn-color-background);\n",
       "  border-radius: 1rem;\n",
       "  height: 1rem;\n",
       "  width: 1rem;\n",
       "  text-decoration: none;\n",
       "  /* unfitted */\n",
       "  color: var(--sklearn-color-unfitted-level-1);\n",
       "  border: var(--sklearn-color-unfitted-level-1) 1pt solid;\n",
       "}\n",
       "\n",
       "#sk-container-id-7 a.estimator_doc_link.fitted {\n",
       "  /* fitted */\n",
       "  border: var(--sklearn-color-fitted-level-1) 1pt solid;\n",
       "  color: var(--sklearn-color-fitted-level-1);\n",
       "}\n",
       "\n",
       "/* On hover */\n",
       "#sk-container-id-7 a.estimator_doc_link:hover {\n",
       "  /* unfitted */\n",
       "  background-color: var(--sklearn-color-unfitted-level-3);\n",
       "  color: var(--sklearn-color-background);\n",
       "  text-decoration: none;\n",
       "}\n",
       "\n",
       "#sk-container-id-7 a.estimator_doc_link.fitted:hover {\n",
       "  /* fitted */\n",
       "  background-color: var(--sklearn-color-fitted-level-3);\n",
       "}\n",
       "</style><div id=\"sk-container-id-7\" class=\"sk-top-container\"><div class=\"sk-text-repr-fallback\"><pre>DecisionTreeClassifier()</pre><b>In a Jupyter environment, please rerun this cell to show the HTML representation or trust the notebook. <br />On GitHub, the HTML representation is unable to render, please try loading this page with nbviewer.org.</b></div><div class=\"sk-container\" hidden><div class=\"sk-item\"><div class=\"sk-estimator fitted sk-toggleable\"><input class=\"sk-toggleable__control sk-hidden--visually\" id=\"sk-estimator-id-7\" type=\"checkbox\" checked><label for=\"sk-estimator-id-7\" class=\"sk-toggleable__label fitted sk-toggleable__label-arrow fitted\">&nbsp;&nbsp;DecisionTreeClassifier<a class=\"sk-estimator-doc-link fitted\" rel=\"noreferrer\" target=\"_blank\" href=\"https://scikit-learn.org/1.5/modules/generated/sklearn.tree.DecisionTreeClassifier.html\">?<span>Documentation for DecisionTreeClassifier</span></a><span class=\"sk-estimator-doc-link fitted\">i<span>Fitted</span></span></label><div class=\"sk-toggleable__content fitted\"><pre>DecisionTreeClassifier()</pre></div> </div></div></div></div>"
      ],
      "text/plain": [
       "DecisionTreeClassifier()"
      ]
     },
     "execution_count": 445,
     "metadata": {},
     "output_type": "execute_result"
    }
   ],
   "source": [
    "X_train, X_test, y_train, y_test = train_test_split(X,y, random_state = 42, test_size = 0.20)\n",
    "\n",
    "print ('X Train',X_train.shape)\n",
    "print ('X Test',X_test.shape)\n",
    "print ('y Train',y_train.shape)\n",
    "print ('y Test',y_test.shape)\n",
    "model = DecisionTreeClassifier()\n",
    "model.fit(X_train, y_train)"
   ]
  },
  {
   "cell_type": "code",
   "execution_count": 393,
   "id": "7542ea9f-9115-4583-8743-6a1b5dd4d283",
   "metadata": {},
   "outputs": [
    {
     "name": "stdout",
     "output_type": "stream",
     "text": [
      "\u001b[31mTrain Accuracy:  1.0\n",
      "Test Accuracy:  0.82\n",
      "F1 Score:  0.8134895892460535\n",
      "Precision Score:  0.8170075970152355\n",
      "Recall Score:  0.8144330307373786\n",
      "\n",
      "\u001b[33m               precision    recall  f1-score   support\n",
      "\n",
      "           0       0.91      0.87      0.89       105\n",
      "           1       0.72      0.84      0.78        91\n",
      "           2       0.77      0.66      0.71        92\n",
      "           3       0.86      0.89      0.88       112\n",
      "\n",
      "    accuracy                           0.82       400\n",
      "   macro avg       0.82      0.81      0.81       400\n",
      "weighted avg       0.82      0.82      0.82       400\n",
      "\n"
     ]
    }
   ],
   "source": [
    "y_pred = classifier.predict (X_test) # predicting\n",
    "y_pred_train = classifier.predict (X_train)\n",
    "confusion_matrix = cm(y_test, y_pred)\n",
    "confusion_matrix_train = cm(y_train, y_pred_train)\n",
    "\n",
    "tampilkan_score(y_train, y_test, y_pred_train, y_pred)"
   ]
  },
  {
   "cell_type": "code",
   "execution_count": 394,
   "id": "abbd7f31-df65-4bce-9b3f-041d58f088ff",
   "metadata": {},
   "outputs": [
    {
     "name": "stdout",
     "output_type": "stream",
     "text": [
      "\n",
      "\n",
      "\n"
     ]
    },
    {
     "data": {
      "image/png": "[encoded data removed]",
      "text/plain": [
       "<Figure size 640x480 with 2 Axes>"
      ]
     },
     "metadata": {},
     "output_type": "display_data"
    },
    {
     "data": {
      "image/png": "[encoded data removed]",
      "text/plain": [
       "<Figure size 640x480 with 2 Axes>"
      ]
     },
     "metadata": {},
     "output_type": "display_data"
    }
   ],
   "source": [
    "cmDisplay(confusion_matrix_train,\"Train\")\n",
    "print('\\n'*2)\n",
    "cmDisplay(confusion_matrix,\"Test\")"
   ]
  },
  {
   "cell_type": "markdown",
   "id": "47c5cee6-d9c5-4232-9b48-eb4ef782df67",
   "metadata": {},
   "source": [
    "Dari hasil train accuracy menggunakan model pada data train dan data test kita dapat bahwa data train mencapai angka 1 sedangka menggunakan data test hasilnya 0.82. Dari gambaran tersebut dapat kita identifikasi bahwa model yang kita lakukan _overfitting_.\n",
    "\n",
    "* [Train Accuracy 100% and Test Accuracy less than that, it is posible as overfitting](https://stats.stackexchange.com/a/278931)\n",
    "* [More about overfitting](https://datascience.stackexchange.com/a/74686)"
   ]
  },
  {
   "cell_type": "markdown",
   "id": "ad8bbbdb-5ed8-42c9-8d46-2f75cdc598a1",
   "metadata": {},
   "source": [
    "## Membuat Model Dengan Cost Complexity Prunning"
   ]
  },
  {
   "cell_type": "code",
   "execution_count": 433,
   "id": "10748068-1d62-441f-bfd4-20583f93b817",
   "metadata": {},
   "outputs": [],
   "source": [
    "model_2 = DecisionTreeClassifier(criterion='entropy', max_depth = 9,random_state=0)\n",
    "\n",
    "# random_stateint, RandomState instance or None, default=None\n",
    "# Controls the randomness of the estimator. The features are always randomly permuted at each split, even if splitter is set to \"best\".\n",
    "# When max_features < n_features, the algorithm will select max_features\n",
    "# at random at each split before finding the best split among them.\n",
    "# But the best found split may vary across different runs, even if max_features=n_features. \n",
    "# That is the case, if the improvement of the criterion is identical for several splits and one split has \n",
    "# to be selected at random. To obtain a deterministic behaviour during fitting, random_state has to be fixed to an integer. \n",
    "# See Glossary for details."
   ]
  },
  {
   "cell_type": "code",
   "execution_count": 447,
   "id": "7fc27ab7-5199-463c-ab14-b1892136daae",
   "metadata": {},
   "outputs": [],
   "source": [
    "path = model_2.cost_complexity_pruning_path(X_train, y_train)\n",
    "ccp_alphas = path.ccp_alphas"
   ]
  },
  {
   "cell_type": "code",
   "execution_count": 458,
   "id": "558a3ffe-358e-43ec-8a69-190abf59c080",
   "metadata": {},
   "outputs": [
    {
     "name": "stdout",
     "output_type": "stream",
     "text": [
      "Number of nodes in the last tree is: 1 with ccp_alpha: 0.6659055205479465\n"
     ]
    },
    {
     "data": {
      "application/vnd.plotly.v1+json": {
       "config": {
        "plotlyServerURL": "https://plot.ly"
       },
       "data": [
        {
         "line": {
          "color": "#E2AC48",
          "width": 2
         },
         "mode": "lines+markers",
         "name": "Train Accuracy",
         "type": "scatter",
         "x": [
          0,
          0.00125,
          0.00125,
          0.00125,
          0.0015171103038354198,
          0.0016812224599330077,
          0.001721804688852168,
          0.001721804688852168,
          0.001721804688852168,
          0.001875,
          0.002028195311147832,
          0.002028195311147832,
          0.002028195311147832,
          0.002054347798626843,
          0.002256025296523007,
          0.002256025296523007,
          0.002256025296523007,
          0.002256025296523007,
          0.002282177784002019,
          0.002334585933443496,
          0.0024375840811813277,
          0.0024949868084581397,
          0.0025,
          0.002588568406297683,
          0.0027333548460859837,
          0.002790245904193847,
          0.0029809595561662437,
          0.003011062229604064,
          0.0030215417850854034,
          0.0030342206076708397,
          0.0030342206076708397,
          0.0030578052164250647,
          0.0030635184721741664,
          0.003137218755408673,
          0.0033942530261076177,
          0.0034292926882848566,
          0.0035627522435439842,
          0.0036801968092395176,
          0.0036840370359458863,
          0.0037090183620567224,
          0.003812415918818672,
          0.003812415918818672,
          0.003927901993580618,
          0.003996519448188232,
          0.004012446486254293,
          0.004015705218893047,
          0.0040338949258943565,
          0.004073764517471169,
          0.004193400640482148,
          0.004205036085151165,
          0.004233222262976483,
          0.004302576097325718,
          0.004358759834117523,
          0.00443811392561957,
          0.004453382607644727,
          0.004530763189872618,
          0.004637720644098972,
          0.004772170014624825,
          0.0047896176746544256,
          0.005101588342990709,
          0.005101588342990711,
          0.005299152913554827,
          0.005622053247866977,
          0.0057643359391683045,
          0.006032177784002019,
          0.006167782572001808,
          0.0064075692507679066,
          0.00655895850102045,
          0.006795682069053196,
          0.006800319770355952,
          0.006912597182644977,
          0.0070662677210971865,
          0.007330837099770303,
          0.0073431519360938925,
          0.007763298574406696,
          0.008181806242931921,
          0.008483781869988896,
          0.009046117271625343,
          0.00904956931964565,
          0.009439467086091256,
          0.009459213382975527,
          0.009555186012042458,
          0.010268139449064932,
          0.010618922329215654,
          0.011125095603310417,
          0.01306383456762665,
          0.0132122668567776,
          0.013841678434875507,
          0.014564880539306022,
          0.014910439574962693,
          0.017418256350671103,
          0.017461289850864967,
          0.018807539687026878,
          0.019193969741856838,
          0.01943710826608608,
          0.02109388944395746,
          0.022020379815701333,
          0.02448678665410796,
          0.02990061655297653,
          0.030425607211072098,
          0.03068180944374982,
          0.03545892785718027,
          0.056067824438672836,
          0.06570858641077243,
          0.19069366364999485,
          0.22390169452505987,
          0.6659055205479465
         ],
         "y": [
          0.994375,
          0.9925,
          0.9925,
          0.9925,
          0.99125,
          0.99125,
          0.989375,
          0.989375,
          0.989375,
          0.9875,
          0.985625,
          0.985625,
          0.985625,
          0.985,
          0.9825,
          0.9825,
          0.9825,
          0.9825,
          0.98125,
          0.980625,
          0.98,
          0.98,
          0.97875,
          0.978125,
          0.978125,
          0.976875,
          0.97625,
          0.97625,
          0.975625,
          0.973125,
          0.973125,
          0.97125,
          0.97,
          0.968125,
          0.968125,
          0.9675,
          0.9675,
          0.965625,
          0.965625,
          0.965,
          0.96125,
          0.96125,
          0.960625,
          0.960625,
          0.96,
          0.958125,
          0.955625,
          0.955625,
          0.955,
          0.95375,
          0.953125,
          0.953125,
          0.94875,
          0.948125,
          0.94625,
          0.945,
          0.945,
          0.943125,
          0.9425,
          0.939375,
          0.938125,
          0.938125,
          0.935625,
          0.935625,
          0.9325,
          0.93,
          0.925625,
          0.92375,
          0.92375,
          0.9225,
          0.92,
          0.91875,
          0.91375,
          0.91375,
          0.91,
          0.906875,
          0.904375,
          0.898125,
          0.898125,
          0.898125,
          0.8975,
          0.89375,
          0.89,
          0.87875,
          0.87875,
          0.87875,
          0.87875,
          0.87875,
          0.8725,
          0.860625,
          0.849375,
          0.843125,
          0.843125,
          0.843125,
          0.838125,
          0.825625,
          0.81875,
          0.81875,
          0.79375,
          0.79375,
          0.79375,
          0.79375,
          0.763125,
          0.763125,
          0.636875,
          0.489375,
          0.255625
         ]
        },
        {
         "line": {
          "color": "#983C2D",
          "width": 2
         },
         "mode": "lines+markers",
         "name": "Test Accuracy",
         "type": "scatter",
         "x": [
          0,
          0.00125,
          0.00125,
          0.00125,
          0.0015171103038354198,
          0.0016812224599330077,
          0.001721804688852168,
          0.001721804688852168,
          0.001721804688852168,
          0.001875,
          0.002028195311147832,
          0.002028195311147832,
          0.002028195311147832,
          0.002054347798626843,
          0.002256025296523007,
          0.002256025296523007,
          0.002256025296523007,
          0.002256025296523007,
          0.002282177784002019,
          0.002334585933443496,
          0.0024375840811813277,
          0.0024949868084581397,
          0.0025,
          0.002588568406297683,
          0.0027333548460859837,
          0.002790245904193847,
          0.0029809595561662437,
          0.003011062229604064,
          0.0030215417850854034,
          0.0030342206076708397,
          0.0030342206076708397,
          0.0030578052164250647,
          0.0030635184721741664,
          0.003137218755408673,
          0.0033942530261076177,
          0.0034292926882848566,
          0.0035627522435439842,
          0.0036801968092395176,
          0.0036840370359458863,
          0.0037090183620567224,
          0.003812415918818672,
          0.003812415918818672,
          0.003927901993580618,
          0.003996519448188232,
          0.004012446486254293,
          0.004015705218893047,
          0.0040338949258943565,
          0.004073764517471169,
          0.004193400640482148,
          0.004205036085151165,
          0.004233222262976483,
          0.004302576097325718,
          0.004358759834117523,
          0.00443811392561957,
          0.004453382607644727,
          0.004530763189872618,
          0.004637720644098972,
          0.004772170014624825,
          0.0047896176746544256,
          0.005101588342990709,
          0.005101588342990711,
          0.005299152913554827,
          0.005622053247866977,
          0.0057643359391683045,
          0.006032177784002019,
          0.006167782572001808,
          0.0064075692507679066,
          0.00655895850102045,
          0.006795682069053196,
          0.006800319770355952,
          0.006912597182644977,
          0.0070662677210971865,
          0.007330837099770303,
          0.0073431519360938925,
          0.007763298574406696,
          0.008181806242931921,
          0.008483781869988896,
          0.009046117271625343,
          0.00904956931964565,
          0.009439467086091256,
          0.009459213382975527,
          0.009555186012042458,
          0.010268139449064932,
          0.010618922329215654,
          0.011125095603310417,
          0.01306383456762665,
          0.0132122668567776,
          0.013841678434875507,
          0.014564880539306022,
          0.014910439574962693,
          0.017418256350671103,
          0.017461289850864967,
          0.018807539687026878,
          0.019193969741856838,
          0.01943710826608608,
          0.02109388944395746,
          0.022020379815701333,
          0.02448678665410796,
          0.02990061655297653,
          0.030425607211072098,
          0.03068180944374982,
          0.03545892785718027,
          0.056067824438672836,
          0.06570858641077243,
          0.19069366364999485,
          0.22390169452505987,
          0.6659055205479465
         ],
         "y": [
          0.84,
          0.84,
          0.84,
          0.84,
          0.84,
          0.84,
          0.84,
          0.84,
          0.84,
          0.84,
          0.8425,
          0.8425,
          0.8425,
          0.84,
          0.845,
          0.845,
          0.845,
          0.845,
          0.845,
          0.8475,
          0.8425,
          0.8425,
          0.8475,
          0.85,
          0.85,
          0.8525,
          0.8525,
          0.8525,
          0.8525,
          0.8475,
          0.8475,
          0.85,
          0.85,
          0.8475,
          0.8475,
          0.8475,
          0.8475,
          0.845,
          0.845,
          0.845,
          0.8425,
          0.8425,
          0.845,
          0.845,
          0.845,
          0.8425,
          0.84,
          0.84,
          0.84,
          0.8375,
          0.8375,
          0.8375,
          0.835,
          0.8375,
          0.8375,
          0.8375,
          0.8375,
          0.8375,
          0.8325,
          0.835,
          0.84,
          0.84,
          0.84,
          0.84,
          0.83,
          0.83,
          0.835,
          0.84,
          0.84,
          0.8425,
          0.84,
          0.85,
          0.845,
          0.845,
          0.84,
          0.8475,
          0.84,
          0.8475,
          0.8475,
          0.8475,
          0.8475,
          0.845,
          0.85,
          0.845,
          0.845,
          0.845,
          0.845,
          0.845,
          0.8375,
          0.8375,
          0.815,
          0.7925,
          0.7925,
          0.7925,
          0.7875,
          0.785,
          0.7925,
          0.7925,
          0.7775,
          0.7775,
          0.7775,
          0.7775,
          0.75,
          0.75,
          0.655,
          0.5425,
          0.2275
         ]
        }
       ],
       "layout": {
        "height": 600,
        "template": {
         "data": {
          "bar": [
           {
            "error_x": {
             "color": "#2a3f5f"
            },
            "error_y": {
             "color": "#2a3f5f"
            },
            "marker": {
             "line": {
              "color": "#E5ECF6",
              "width": 0.5
             },
             "pattern": {
              "fillmode": "overlay",
              "size": 10,
              "solidity": 0.2
             }
            },
            "type": "bar"
           }
          ],
          "barpolar": [
           {
            "marker": {
             "line": {
              "color": "#E5ECF6",
              "width": 0.5
             },
             "pattern": {
              "fillmode": "overlay",
              "size": 10,
              "solidity": 0.2
             }
            },
            "type": "barpolar"
           }
          ],
          "carpet": [
           {
            "aaxis": {
             "endlinecolor": "#2a3f5f",
             "gridcolor": "white",
             "linecolor": "white",
             "minorgridcolor": "white",
             "startlinecolor": "#2a3f5f"
            },
            "baxis": {
             "endlinecolor": "#2a3f5f",
             "gridcolor": "white",
             "linecolor": "white",
             "minorgridcolor": "white",
             "startlinecolor": "#2a3f5f"
            },
            "type": "carpet"
           }
          ],
          "choropleth": [
           {
            "colorbar": {
             "outlinewidth": 0,
             "ticks": ""
            },
            "type": "choropleth"
           }
          ],
          "contour": [
           {
            "colorbar": {
             "outlinewidth": 0,
             "ticks": ""
            },
            "colorscale": [
             [
              0,
              "#0d0887"
             ],
             [
              0.1111111111111111,
              "#46039f"
             ],
             [
              0.2222222222222222,
              "#7201a8"
             ],
             [
              0.3333333333333333,
              "#9c179e"
             ],
             [
              0.4444444444444444,
              "#bd3786"
             ],
             [
              0.5555555555555556,
              "#d8576b"
             ],
             [
              0.6666666666666666,
              "#ed7953"
             ],
             [
              0.7777777777777778,
              "#fb9f3a"
             ],
             [
              0.8888888888888888,
              "#fdca26"
             ],
             [
              1,
              "#f0f921"
             ]
            ],
            "type": "contour"
           }
          ],
          "contourcarpet": [
           {
            "colorbar": {
             "outlinewidth": 0,
             "ticks": ""
            },
            "type": "contourcarpet"
           }
          ],
          "heatmap": [
           {
            "colorbar": {
             "outlinewidth": 0,
             "ticks": ""
            },
            "colorscale": [
             [
              0,
              "#0d0887"
             ],
             [
              0.1111111111111111,
              "#46039f"
             ],
             [
              0.2222222222222222,
              "#7201a8"
             ],
             [
              0.3333333333333333,
              "#9c179e"
             ],
             [
              0.4444444444444444,
              "#bd3786"
             ],
             [
              0.5555555555555556,
              "#d8576b"
             ],
             [
              0.6666666666666666,
              "#ed7953"
             ],
             [
              0.7777777777777778,
              "#fb9f3a"
             ],
             [
              0.8888888888888888,
              "#fdca26"
             ],
             [
              1,
              "#f0f921"
             ]
            ],
            "type": "heatmap"
           }
          ],
          "heatmapgl": [
           {
            "colorbar": {
             "outlinewidth": 0,
             "ticks": ""
            },
            "colorscale": [
             [
              0,
              "#0d0887"
             ],
             [
              0.1111111111111111,
              "#46039f"
             ],
             [
              0.2222222222222222,
              "#7201a8"
             ],
             [
              0.3333333333333333,
              "#9c179e"
             ],
             [
              0.4444444444444444,
              "#bd3786"
             ],
             [
              0.5555555555555556,
              "#d8576b"
             ],
             [
              0.6666666666666666,
              "#ed7953"
             ],
             [
              0.7777777777777778,
              "#fb9f3a"
             ],
             [
              0.8888888888888888,
              "#fdca26"
             ],
             [
              1,
              "#f0f921"
             ]
            ],
            "type": "heatmapgl"
           }
          ],
          "histogram": [
           {
            "marker": {
             "pattern": {
              "fillmode": "overlay",
              "size": 10,
              "solidity": 0.2
             }
            },
            "type": "histogram"
           }
          ],
          "histogram2d": [
           {
            "colorbar": {
             "outlinewidth": 0,
             "ticks": ""
            },
            "colorscale": [
             [
              0,
              "#0d0887"
             ],
             [
              0.1111111111111111,
              "#46039f"
             ],
             [
              0.2222222222222222,
              "#7201a8"
             ],
             [
              0.3333333333333333,
              "#9c179e"
             ],
             [
              0.4444444444444444,
              "#bd3786"
             ],
             [
              0.5555555555555556,
              "#d8576b"
             ],
             [
              0.6666666666666666,
              "#ed7953"
             ],
             [
              0.7777777777777778,
              "#fb9f3a"
             ],
             [
              0.8888888888888888,
              "#fdca26"
             ],
             [
              1,
              "#f0f921"
             ]
            ],
            "type": "histogram2d"
           }
          ],
          "histogram2dcontour": [
           {
            "colorbar": {
             "outlinewidth": 0,
             "ticks": ""
            },
            "colorscale": [
             [
              0,
              "#0d0887"
             ],
             [
              0.1111111111111111,
              "#46039f"
             ],
             [
              0.2222222222222222,
              "#7201a8"
             ],
             [
              0.3333333333333333,
              "#9c179e"
             ],
             [
              0.4444444444444444,
              "#bd3786"
             ],
             [
              0.5555555555555556,
              "#d8576b"
             ],
             [
              0.6666666666666666,
              "#ed7953"
             ],
             [
              0.7777777777777778,
              "#fb9f3a"
             ],
             [
              0.8888888888888888,
              "#fdca26"
             ],
             [
              1,
              "#f0f921"
             ]
            ],
            "type": "histogram2dcontour"
           }
          ],
          "mesh3d": [
           {
            "colorbar": {
             "outlinewidth": 0,
             "ticks": ""
            },
            "type": "mesh3d"
           }
          ],
          "parcoords": [
           {
            "line": {
             "colorbar": {
              "outlinewidth": 0,
              "ticks": ""
             }
            },
            "type": "parcoords"
           }
          ],
          "pie": [
           {
            "automargin": true,
            "type": "pie"
           }
          ],
          "scatter": [
           {
            "fillpattern": {
             "fillmode": "overlay",
             "size": 10,
             "solidity": 0.2
            },
            "type": "scatter"
           }
          ],
          "scatter3d": [
           {
            "line": {
             "colorbar": {
              "outlinewidth": 0,
              "ticks": ""
             }
            },
            "marker": {
             "colorbar": {
              "outlinewidth": 0,
              "ticks": ""
             }
            },
            "type": "scatter3d"
           }
          ],
          "scattercarpet": [
           {
            "marker": {
             "colorbar": {
              "outlinewidth": 0,
              "ticks": ""
             }
            },
            "type": "scattercarpet"
           }
          ],
          "scattergeo": [
           {
            "marker": {
             "colorbar": {
              "outlinewidth": 0,
              "ticks": ""
             }
            },
            "type": "scattergeo"
           }
          ],
          "scattergl": [
           {
            "marker": {
             "colorbar": {
              "outlinewidth": 0,
              "ticks": ""
             }
            },
            "type": "scattergl"
           }
          ],
          "scattermapbox": [
           {
            "marker": {
             "colorbar": {
              "outlinewidth": 0,
              "ticks": ""
             }
            },
            "type": "scattermapbox"
           }
          ],
          "scatterpolar": [
           {
            "marker": {
             "colorbar": {
              "outlinewidth": 0,
              "ticks": ""
             }
            },
            "type": "scatterpolar"
           }
          ],
          "scatterpolargl": [
           {
            "marker": {
             "colorbar": {
              "outlinewidth": 0,
              "ticks": ""
             }
            },
            "type": "scatterpolargl"
           }
          ],
          "scatterternary": [
           {
            "marker": {
             "colorbar": {
              "outlinewidth": 0,
              "ticks": ""
             }
            },
            "type": "scatterternary"
           }
          ],
          "surface": [
           {
            "colorbar": {
             "outlinewidth": 0,
             "ticks": ""
            },
            "colorscale": [
             [
              0,
              "#0d0887"
             ],
             [
              0.1111111111111111,
              "#46039f"
             ],
             [
              0.2222222222222222,
              "#7201a8"
             ],
             [
              0.3333333333333333,
              "#9c179e"
             ],
             [
              0.4444444444444444,
              "#bd3786"
             ],
             [
              0.5555555555555556,
              "#d8576b"
             ],
             [
              0.6666666666666666,
              "#ed7953"
             ],
             [
              0.7777777777777778,
              "#fb9f3a"
             ],
             [
              0.8888888888888888,
              "#fdca26"
             ],
             [
              1,
              "#f0f921"
             ]
            ],
            "type": "surface"
           }
          ],
          "table": [
           {
            "cells": {
             "fill": {
              "color": "#EBF0F8"
             },
             "line": {
              "color": "white"
             }
            },
            "header": {
             "fill": {
              "color": "#C8D4E3"
             },
             "line": {
              "color": "white"
             }
            },
            "type": "table"
           }
          ]
         },
         "layout": {
          "annotationdefaults": {
           "arrowcolor": "#2a3f5f",
           "arrowhead": 0,
           "arrowwidth": 1
          },
          "autotypenumbers": "strict",
          "coloraxis": {
           "colorbar": {
            "outlinewidth": 0,
            "ticks": ""
           }
          },
          "colorscale": {
           "diverging": [
            [
             0,
             "#8e0152"
            ],
            [
             0.1,
             "#c51b7d"
            ],
            [
             0.2,
             "#de77ae"
            ],
            [
             0.3,
             "#f1b6da"
            ],
            [
             0.4,
             "#fde0ef"
            ],
            [
             0.5,
             "#f7f7f7"
            ],
            [
             0.6,
             "#e6f5d0"
            ],
            [
             0.7,
             "#b8e186"
            ],
            [
             0.8,
             "#7fbc41"
            ],
            [
             0.9,
             "#4d9221"
            ],
            [
             1,
             "#276419"
            ]
           ],
           "sequential": [
            [
             0,
             "#0d0887"
            ],
            [
             0.1111111111111111,
             "#46039f"
            ],
            [
             0.2222222222222222,
             "#7201a8"
            ],
            [
             0.3333333333333333,
             "#9c179e"
            ],
            [
             0.4444444444444444,
             "#bd3786"
            ],
            [
             0.5555555555555556,
             "#d8576b"
            ],
            [
             0.6666666666666666,
             "#ed7953"
            ],
            [
             0.7777777777777778,
             "#fb9f3a"
            ],
            [
             0.8888888888888888,
             "#fdca26"
            ],
            [
             1,
             "#f0f921"
            ]
           ],
           "sequentialminus": [
            [
             0,
             "#0d0887"
            ],
            [
             0.1111111111111111,
             "#46039f"
            ],
            [
             0.2222222222222222,
             "#7201a8"
            ],
            [
             0.3333333333333333,
             "#9c179e"
            ],
            [
             0.4444444444444444,
             "#bd3786"
            ],
            [
             0.5555555555555556,
             "#d8576b"
            ],
            [
             0.6666666666666666,
             "#ed7953"
            ],
            [
             0.7777777777777778,
             "#fb9f3a"
            ],
            [
             0.8888888888888888,
             "#fdca26"
            ],
            [
             1,
             "#f0f921"
            ]
           ]
          },
          "colorway": [
           "#636efa",
           "#EF553B",
           "#00cc96",
           "#ab63fa",
           "#FFA15A",
           "#19d3f3",
           "#FF6692",
           "#B6E880",
           "#FF97FF",
           "#FECB52"
          ],
          "font": {
           "color": "#2a3f5f"
          },
          "geo": {
           "bgcolor": "white",
           "lakecolor": "white",
           "landcolor": "#E5ECF6",
           "showlakes": true,
           "showland": true,
           "subunitcolor": "white"
          },
          "hoverlabel": {
           "align": "left"
          },
          "hovermode": "closest",
          "mapbox": {
           "style": "light"
          },
          "paper_bgcolor": "white",
          "plot_bgcolor": "#E5ECF6",
          "polar": {
           "angularaxis": {
            "gridcolor": "white",
            "linecolor": "white",
            "ticks": ""
           },
           "bgcolor": "#E5ECF6",
           "radialaxis": {
            "gridcolor": "white",
            "linecolor": "white",
            "ticks": ""
           }
          },
          "scene": {
           "xaxis": {
            "backgroundcolor": "#E5ECF6",
            "gridcolor": "white",
            "gridwidth": 2,
            "linecolor": "white",
            "showbackground": true,
            "ticks": "",
            "zerolinecolor": "white"
           },
           "yaxis": {
            "backgroundcolor": "#E5ECF6",
            "gridcolor": "white",
            "gridwidth": 2,
            "linecolor": "white",
            "showbackground": true,
            "ticks": "",
            "zerolinecolor": "white"
           },
           "zaxis": {
            "backgroundcolor": "#E5ECF6",
            "gridcolor": "white",
            "gridwidth": 2,
            "linecolor": "white",
            "showbackground": true,
            "ticks": "",
            "zerolinecolor": "white"
           }
          },
          "shapedefaults": {
           "line": {
            "color": "#2a3f5f"
           }
          },
          "ternary": {
           "aaxis": {
            "gridcolor": "white",
            "linecolor": "white",
            "ticks": ""
           },
           "baxis": {
            "gridcolor": "white",
            "linecolor": "white",
            "ticks": ""
           },
           "bgcolor": "#E5ECF6",
           "caxis": {
            "gridcolor": "white",
            "linecolor": "white",
            "ticks": ""
           }
          },
          "title": {
           "x": 0.05
          },
          "xaxis": {
           "automargin": true,
           "gridcolor": "white",
           "linecolor": "white",
           "ticks": "",
           "title": {
            "standoff": 15
           },
           "zerolinecolor": "white",
           "zerolinewidth": 2
          },
          "yaxis": {
           "automargin": true,
           "gridcolor": "white",
           "linecolor": "white",
           "ticks": "",
           "title": {
            "standoff": 15
           },
           "zerolinecolor": "white",
           "zerolinewidth": 2
          }
         }
        },
        "title": {
         "text": "Train Accuracy vs Test Accuracy With Different CCPs"
        },
        "width": 1000,
        "xaxis": {
         "autorange": true,
         "range": [
          -0.041107106759777634,
          0.7070126273077242
         ],
         "title": {
          "text": "Accuracy"
         },
         "type": "linear"
        },
        "yaxis": {
         "autorange": true,
         "range": [
          0.176271508097166,
          1.045603491902834
         ],
         "title": {
          "text": "CCP"
         },
         "type": "linear"
        }
       }
      },
      "image/png": "[encoded data removed]",
      "text/html": [
       "<div>                            <div id=\"502356f3-c20f-488c-80cc-c60ac73dbdd8\" class=\"plotly-graph-div\" style=\"height:600px; width:1000px;\"></div>            <script type=\"text/javascript\">                require([\"plotly\"], function(Plotly) {                    window.PLOTLYENV=window.PLOTLYENV || {};                                    if (document.getElementById(\"502356f3-c20f-488c-80cc-c60ac73dbdd8\")) {                    Plotly.newPlot(                        \"502356f3-c20f-488c-80cc-c60ac73dbdd8\",                        [{\"line\":{\"color\":\"#E2AC48\",\"width\":2},\"mode\":\"lines+markers\",\"name\":\"Train Accuracy\",\"x\":[0.0,0.00125,0.00125,0.00125,0.0015171103038354198,0.0016812224599330077,0.001721804688852168,0.001721804688852168,0.001721804688852168,0.001875,0.002028195311147832,0.002028195311147832,0.002028195311147832,0.002054347798626843,0.002256025296523007,0.002256025296523007,0.002256025296523007,0.002256025296523007,0.002282177784002019,0.002334585933443496,0.0024375840811813277,0.0024949868084581397,0.0025,0.002588568406297683,0.0027333548460859837,0.002790245904193847,0.0029809595561662437,0.003011062229604064,0.0030215417850854034,0.0030342206076708397,0.0030342206076708397,0.0030578052164250647,0.0030635184721741664,0.003137218755408673,0.0033942530261076177,0.0034292926882848566,0.0035627522435439842,0.0036801968092395176,0.0036840370359458863,0.0037090183620567224,0.003812415918818672,0.003812415918818672,0.003927901993580618,0.003996519448188232,0.004012446486254293,0.004015705218893047,0.0040338949258943565,0.004073764517471169,0.004193400640482148,0.004205036085151165,0.004233222262976483,0.004302576097325718,0.004358759834117523,0.00443811392561957,0.004453382607644727,0.004530763189872618,0.004637720644098972,0.004772170014624825,0.0047896176746544256,0.005101588342990709,0.005101588342990711,0.005299152913554827,0.005622053247866977,0.0057643359391683045,0.006032177784002019,0.006167782572001808,0.0064075692507679066,0.00655895850102045,0.006795682069053196,0.006800319770355952,0.006912597182644977,0.0070662677210971865,0.007330837099770303,0.0073431519360938925,0.007763298574406696,0.008181806242931921,0.008483781869988896,0.009046117271625343,0.00904956931964565,0.009439467086091256,0.009459213382975527,0.009555186012042458,0.010268139449064932,0.010618922329215654,0.011125095603310417,0.01306383456762665,0.0132122668567776,0.013841678434875507,0.014564880539306022,0.014910439574962693,0.017418256350671103,0.017461289850864967,0.018807539687026878,0.019193969741856838,0.01943710826608608,0.02109388944395746,0.022020379815701333,0.02448678665410796,0.02990061655297653,0.030425607211072098,0.03068180944374982,0.03545892785718027,0.056067824438672836,0.06570858641077243,0.19069366364999485,0.22390169452505987,0.6659055205479465],\"y\":[0.994375,0.9925,0.9925,0.9925,0.99125,0.99125,0.989375,0.989375,0.989375,0.9875,0.985625,0.985625,0.985625,0.985,0.9825,0.9825,0.9825,0.9825,0.98125,0.980625,0.98,0.98,0.97875,0.978125,0.978125,0.976875,0.97625,0.97625,0.975625,0.973125,0.973125,0.97125,0.97,0.968125,0.968125,0.9675,0.9675,0.965625,0.965625,0.965,0.96125,0.96125,0.960625,0.960625,0.96,0.958125,0.955625,0.955625,0.955,0.95375,0.953125,0.953125,0.94875,0.948125,0.94625,0.945,0.945,0.943125,0.9425,0.939375,0.938125,0.938125,0.935625,0.935625,0.9325,0.93,0.925625,0.92375,0.92375,0.9225,0.92,0.91875,0.91375,0.91375,0.91,0.906875,0.904375,0.898125,0.898125,0.898125,0.8975,0.89375,0.89,0.87875,0.87875,0.87875,0.87875,0.87875,0.8725,0.860625,0.849375,0.843125,0.843125,0.843125,0.838125,0.825625,0.81875,0.81875,0.79375,0.79375,0.79375,0.79375,0.763125,0.763125,0.636875,0.489375,0.255625],\"type\":\"scatter\"},{\"line\":{\"color\":\"#983C2D\",\"width\":2},\"mode\":\"lines+markers\",\"name\":\"Test Accuracy\",\"x\":[0.0,0.00125,0.00125,0.00125,0.0015171103038354198,0.0016812224599330077,0.001721804688852168,0.001721804688852168,0.001721804688852168,0.001875,0.002028195311147832,0.002028195311147832,0.002028195311147832,0.002054347798626843,0.002256025296523007,0.002256025296523007,0.002256025296523007,0.002256025296523007,0.002282177784002019,0.002334585933443496,0.0024375840811813277,0.0024949868084581397,0.0025,0.002588568406297683,0.0027333548460859837,0.002790245904193847,0.0029809595561662437,0.003011062229604064,0.0030215417850854034,0.0030342206076708397,0.0030342206076708397,0.0030578052164250647,0.0030635184721741664,0.003137218755408673,0.0033942530261076177,0.0034292926882848566,0.0035627522435439842,0.0036801968092395176,0.0036840370359458863,0.0037090183620567224,0.003812415918818672,0.003812415918818672,0.003927901993580618,0.003996519448188232,0.004012446486254293,0.004015705218893047,0.0040338949258943565,0.004073764517471169,0.004193400640482148,0.004205036085151165,0.004233222262976483,0.004302576097325718,0.004358759834117523,0.00443811392561957,0.004453382607644727,0.004530763189872618,0.004637720644098972,0.004772170014624825,0.0047896176746544256,0.005101588342990709,0.005101588342990711,0.005299152913554827,0.005622053247866977,0.0057643359391683045,0.006032177784002019,0.006167782572001808,0.0064075692507679066,0.00655895850102045,0.006795682069053196,0.006800319770355952,0.006912597182644977,0.0070662677210971865,0.007330837099770303,0.0073431519360938925,0.007763298574406696,0.008181806242931921,0.008483781869988896,0.009046117271625343,0.00904956931964565,0.009439467086091256,0.009459213382975527,0.009555186012042458,0.010268139449064932,0.010618922329215654,0.011125095603310417,0.01306383456762665,0.0132122668567776,0.013841678434875507,0.014564880539306022,0.014910439574962693,0.017418256350671103,0.017461289850864967,0.018807539687026878,0.019193969741856838,0.01943710826608608,0.02109388944395746,0.022020379815701333,0.02448678665410796,0.02990061655297653,0.030425607211072098,0.03068180944374982,0.03545892785718027,0.056067824438672836,0.06570858641077243,0.19069366364999485,0.22390169452505987,0.6659055205479465],\"y\":[0.84,0.84,0.84,0.84,0.84,0.84,0.84,0.84,0.84,0.84,0.8425,0.8425,0.8425,0.84,0.845,0.845,0.845,0.845,0.845,0.8475,0.8425,0.8425,0.8475,0.85,0.85,0.8525,0.8525,0.8525,0.8525,0.8475,0.8475,0.85,0.85,0.8475,0.8475,0.8475,0.8475,0.845,0.845,0.845,0.8425,0.8425,0.845,0.845,0.845,0.8425,0.84,0.84,0.84,0.8375,0.8375,0.8375,0.835,0.8375,0.8375,0.8375,0.8375,0.8375,0.8325,0.835,0.84,0.84,0.84,0.84,0.83,0.83,0.835,0.84,0.84,0.8425,0.84,0.85,0.845,0.845,0.84,0.8475,0.84,0.8475,0.8475,0.8475,0.8475,0.845,0.85,0.845,0.845,0.845,0.845,0.845,0.8375,0.8375,0.815,0.7925,0.7925,0.7925,0.7875,0.785,0.7925,0.7925,0.7775,0.7775,0.7775,0.7775,0.75,0.75,0.655,0.5425,0.2275],\"type\":\"scatter\"}],                        {\"template\":{\"data\":{\"histogram2dcontour\":[{\"type\":\"histogram2dcontour\",\"colorbar\":{\"outlinewidth\":0,\"ticks\":\"\"},\"colorscale\":[[0.0,\"#0d0887\"],[0.1111111111111111,\"#46039f\"],[0.2222222222222222,\"#7201a8\"],[0.3333333333333333,\"#9c179e\"],[0.4444444444444444,\"#bd3786\"],[0.5555555555555556,\"#d8576b\"],[0.6666666666666666,\"#ed7953\"],[0.7777777777777778,\"#fb9f3a\"],[0.8888888888888888,\"#fdca26\"],[1.0,\"#f0f921\"]]}],\"choropleth\":[{\"type\":\"choropleth\",\"colorbar\":{\"outlinewidth\":0,\"ticks\":\"\"}}],\"histogram2d\":[{\"type\":\"histogram2d\",\"colorbar\":{\"outlinewidth\":0,\"ticks\":\"\"},\"colorscale\":[[0.0,\"#0d0887\"],[0.1111111111111111,\"#46039f\"],[0.2222222222222222,\"#7201a8\"],[0.3333333333333333,\"#9c179e\"],[0.4444444444444444,\"#bd3786\"],[0.5555555555555556,\"#d8576b\"],[0.6666666666666666,\"#ed7953\"],[0.7777777777777778,\"#fb9f3a\"],[0.8888888888888888,\"#fdca26\"],[1.0,\"#f0f921\"]]}],\"heatmap\":[{\"type\":\"heatmap\",\"colorbar\":{\"outlinewidth\":0,\"ticks\":\"\"},\"colorscale\":[[0.0,\"#0d0887\"],[0.1111111111111111,\"#46039f\"],[0.2222222222222222,\"#7201a8\"],[0.3333333333333333,\"#9c179e\"],[0.4444444444444444,\"#bd3786\"],[0.5555555555555556,\"#d8576b\"],[0.6666666666666666,\"#ed7953\"],[0.7777777777777778,\"#fb9f3a\"],[0.8888888888888888,\"#fdca26\"],[1.0,\"#f0f921\"]]}],\"heatmapgl\":[{\"type\":\"heatmapgl\",\"colorbar\":{\"outlinewidth\":0,\"ticks\":\"\"},\"colorscale\":[[0.0,\"#0d0887\"],[0.1111111111111111,\"#46039f\"],[0.2222222222222222,\"#7201a8\"],[0.3333333333333333,\"#9c179e\"],[0.4444444444444444,\"#bd3786\"],[0.5555555555555556,\"#d8576b\"],[0.6666666666666666,\"#ed7953\"],[0.7777777777777778,\"#fb9f3a\"],[0.8888888888888888,\"#fdca26\"],[1.0,\"#f0f921\"]]}],\"contourcarpet\":[{\"type\":\"contourcarpet\",\"colorbar\":{\"outlinewidth\":0,\"ticks\":\"\"}}],\"contour\":[{\"type\":\"contour\",\"colorbar\":{\"outlinewidth\":0,\"ticks\":\"\"},\"colorscale\":[[0.0,\"#0d0887\"],[0.1111111111111111,\"#46039f\"],[0.2222222222222222,\"#7201a8\"],[0.3333333333333333,\"#9c179e\"],[0.4444444444444444,\"#bd3786\"],[0.5555555555555556,\"#d8576b\"],[0.6666666666666666,\"#ed7953\"],[0.7777777777777778,\"#fb9f3a\"],[0.8888888888888888,\"#fdca26\"],[1.0,\"#f0f921\"]]}],\"surface\":[{\"type\":\"surface\",\"colorbar\":{\"outlinewidth\":0,\"ticks\":\"\"},\"colorscale\":[[0.0,\"#0d0887\"],[0.1111111111111111,\"#46039f\"],[0.2222222222222222,\"#7201a8\"],[0.3333333333333333,\"#9c179e\"],[0.4444444444444444,\"#bd3786\"],[0.5555555555555556,\"#d8576b\"],[0.6666666666666666,\"#ed7953\"],[0.7777777777777778,\"#fb9f3a\"],[0.8888888888888888,\"#fdca26\"],[1.0,\"#f0f921\"]]}],\"mesh3d\":[{\"type\":\"mesh3d\",\"colorbar\":{\"outlinewidth\":0,\"ticks\":\"\"}}],\"scatter\":[{\"fillpattern\":{\"fillmode\":\"overlay\",\"size\":10,\"solidity\":0.2},\"type\":\"scatter\"}],\"parcoords\":[{\"type\":\"parcoords\",\"line\":{\"colorbar\":{\"outlinewidth\":0,\"ticks\":\"\"}}}],\"scatterpolargl\":[{\"type\":\"scatterpolargl\",\"marker\":{\"colorbar\":{\"outlinewidth\":0,\"ticks\":\"\"}}}],\"bar\":[{\"error_x\":{\"color\":\"#2a3f5f\"},\"error_y\":{\"color\":\"#2a3f5f\"},\"marker\":{\"line\":{\"color\":\"#E5ECF6\",\"width\":0.5},\"pattern\":{\"fillmode\":\"overlay\",\"size\":10,\"solidity\":0.2}},\"type\":\"bar\"}],\"scattergeo\":[{\"type\":\"scattergeo\",\"marker\":{\"colorbar\":{\"outlinewidth\":0,\"ticks\":\"\"}}}],\"scatterpolar\":[{\"type\":\"scatterpolar\",\"marker\":{\"colorbar\":{\"outlinewidth\":0,\"ticks\":\"\"}}}],\"histogram\":[{\"marker\":{\"pattern\":{\"fillmode\":\"overlay\",\"size\":10,\"solidity\":0.2}},\"type\":\"histogram\"}],\"scattergl\":[{\"type\":\"scattergl\",\"marker\":{\"colorbar\":{\"outlinewidth\":0,\"ticks\":\"\"}}}],\"scatter3d\":[{\"type\":\"scatter3d\",\"line\":{\"colorbar\":{\"outlinewidth\":0,\"ticks\":\"\"}},\"marker\":{\"colorbar\":{\"outlinewidth\":0,\"ticks\":\"\"}}}],\"scattermapbox\":[{\"type\":\"scattermapbox\",\"marker\":{\"colorbar\":{\"outlinewidth\":0,\"ticks\":\"\"}}}],\"scatterternary\":[{\"type\":\"scatterternary\",\"marker\":{\"colorbar\":{\"outlinewidth\":0,\"ticks\":\"\"}}}],\"scattercarpet\":[{\"type\":\"scattercarpet\",\"marker\":{\"colorbar\":{\"outlinewidth\":0,\"ticks\":\"\"}}}],\"carpet\":[{\"aaxis\":{\"endlinecolor\":\"#2a3f5f\",\"gridcolor\":\"white\",\"linecolor\":\"white\",\"minorgridcolor\":\"white\",\"startlinecolor\":\"#2a3f5f\"},\"baxis\":{\"endlinecolor\":\"#2a3f5f\",\"gridcolor\":\"white\",\"linecolor\":\"white\",\"minorgridcolor\":\"white\",\"startlinecolor\":\"#2a3f5f\"},\"type\":\"carpet\"}],\"table\":[{\"cells\":{\"fill\":{\"color\":\"#EBF0F8\"},\"line\":{\"color\":\"white\"}},\"header\":{\"fill\":{\"color\":\"#C8D4E3\"},\"line\":{\"color\":\"white\"}},\"type\":\"table\"}],\"barpolar\":[{\"marker\":{\"line\":{\"color\":\"#E5ECF6\",\"width\":0.5},\"pattern\":{\"fillmode\":\"overlay\",\"size\":10,\"solidity\":0.2}},\"type\":\"barpolar\"}],\"pie\":[{\"automargin\":true,\"type\":\"pie\"}]},\"layout\":{\"autotypenumbers\":\"strict\",\"colorway\":[\"#636efa\",\"#EF553B\",\"#00cc96\",\"#ab63fa\",\"#FFA15A\",\"#19d3f3\",\"#FF6692\",\"#B6E880\",\"#FF97FF\",\"#FECB52\"],\"font\":{\"color\":\"#2a3f5f\"},\"hovermode\":\"closest\",\"hoverlabel\":{\"align\":\"left\"},\"paper_bgcolor\":\"white\",\"plot_bgcolor\":\"#E5ECF6\",\"polar\":{\"bgcolor\":\"#E5ECF6\",\"angularaxis\":{\"gridcolor\":\"white\",\"linecolor\":\"white\",\"ticks\":\"\"},\"radialaxis\":{\"gridcolor\":\"white\",\"linecolor\":\"white\",\"ticks\":\"\"}},\"ternary\":{\"bgcolor\":\"#E5ECF6\",\"aaxis\":{\"gridcolor\":\"white\",\"linecolor\":\"white\",\"ticks\":\"\"},\"baxis\":{\"gridcolor\":\"white\",\"linecolor\":\"white\",\"ticks\":\"\"},\"caxis\":{\"gridcolor\":\"white\",\"linecolor\":\"white\",\"ticks\":\"\"}},\"coloraxis\":{\"colorbar\":{\"outlinewidth\":0,\"ticks\":\"\"}},\"colorscale\":{\"sequential\":[[0.0,\"#0d0887\"],[0.1111111111111111,\"#46039f\"],[0.2222222222222222,\"#7201a8\"],[0.3333333333333333,\"#9c179e\"],[0.4444444444444444,\"#bd3786\"],[0.5555555555555556,\"#d8576b\"],[0.6666666666666666,\"#ed7953\"],[0.7777777777777778,\"#fb9f3a\"],[0.8888888888888888,\"#fdca26\"],[1.0,\"#f0f921\"]],\"sequentialminus\":[[0.0,\"#0d0887\"],[0.1111111111111111,\"#46039f\"],[0.2222222222222222,\"#7201a8\"],[0.3333333333333333,\"#9c179e\"],[0.4444444444444444,\"#bd3786\"],[0.5555555555555556,\"#d8576b\"],[0.6666666666666666,\"#ed7953\"],[0.7777777777777778,\"#fb9f3a\"],[0.8888888888888888,\"#fdca26\"],[1.0,\"#f0f921\"]],\"diverging\":[[0,\"#8e0152\"],[0.1,\"#c51b7d\"],[0.2,\"#de77ae\"],[0.3,\"#f1b6da\"],[0.4,\"#fde0ef\"],[0.5,\"#f7f7f7\"],[0.6,\"#e6f5d0\"],[0.7,\"#b8e186\"],[0.8,\"#7fbc41\"],[0.9,\"#4d9221\"],[1,\"#276419\"]]},\"xaxis\":{\"gridcolor\":\"white\",\"linecolor\":\"white\",\"ticks\":\"\",\"title\":{\"standoff\":15},\"zerolinecolor\":\"white\",\"automargin\":true,\"zerolinewidth\":2},\"yaxis\":{\"gridcolor\":\"white\",\"linecolor\":\"white\",\"ticks\":\"\",\"title\":{\"standoff\":15},\"zerolinecolor\":\"white\",\"automargin\":true,\"zerolinewidth\":2},\"scene\":{\"xaxis\":{\"backgroundcolor\":\"#E5ECF6\",\"gridcolor\":\"white\",\"linecolor\":\"white\",\"showbackground\":true,\"ticks\":\"\",\"zerolinecolor\":\"white\",\"gridwidth\":2},\"yaxis\":{\"backgroundcolor\":\"#E5ECF6\",\"gridcolor\":\"white\",\"linecolor\":\"white\",\"showbackground\":true,\"ticks\":\"\",\"zerolinecolor\":\"white\",\"gridwidth\":2},\"zaxis\":{\"backgroundcolor\":\"#E5ECF6\",\"gridcolor\":\"white\",\"linecolor\":\"white\",\"showbackground\":true,\"ticks\":\"\",\"zerolinecolor\":\"white\",\"gridwidth\":2}},\"shapedefaults\":{\"line\":{\"color\":\"#2a3f5f\"}},\"annotationdefaults\":{\"arrowcolor\":\"#2a3f5f\",\"arrowhead\":0,\"arrowwidth\":1},\"geo\":{\"bgcolor\":\"white\",\"landcolor\":\"#E5ECF6\",\"subunitcolor\":\"white\",\"showland\":true,\"showlakes\":true,\"lakecolor\":\"white\"},\"title\":{\"x\":0.05},\"mapbox\":{\"style\":\"light\"}}},\"title\":{\"text\":\"Train Accuracy vs Test Accuracy With Different CCPs\"},\"xaxis\":{\"title\":{\"text\":\"Accuracy\"}},\"yaxis\":{\"title\":{\"text\":\"CCP\"}},\"width\":1000,\"height\":600},                        {\"responsive\": true}                    ).then(function(){\n",
       "                            \n",
       "var gd = document.getElementById('502356f3-c20f-488c-80cc-c60ac73dbdd8');\n",
       "var x = new MutationObserver(function (mutations, observer) {{\n",
       "        var display = window.getComputedStyle(gd).display;\n",
       "        if (!display || display === 'none') {{\n",
       "            console.log([gd, 'removed!']);\n",
       "            Plotly.purge(gd);\n",
       "            observer.disconnect();\n",
       "        }}\n",
       "}});\n",
       "\n",
       "// Listen for the removal of the full notebook cells\n",
       "var notebookContainer = gd.closest('#notebook-container');\n",
       "if (notebookContainer) {{\n",
       "    x.observe(notebookContainer, {childList: true});\n",
       "}}\n",
       "\n",
       "// Listen for the clearing of the current output cell\n",
       "var outputEl = gd.closest('.output');\n",
       "if (outputEl) {{\n",
       "    x.observe(outputEl, {childList: true});\n",
       "}}\n",
       "\n",
       "                        })                };                });            </script>        </div>"
      ]
     },
     "metadata": {},
     "output_type": "display_data"
    }
   ],
   "source": [
    "## Menemukan cost complexity alpah\n",
    "clfs = []\n",
    "train_accuracy = []\n",
    "test_accuracy = []\n",
    "for n in ccp_alphas:\n",
    "    model_best_alpha = DecisionTreeClassifier(criterion='entropy', max_depth = 9,random_state=0, ccp_alpha=n)\n",
    "    model_best_alpha.fit(X_train, y_train)\n",
    "    clfs.append(model_best_alpha)\n",
    "    train_accuracy.append(model_best_alpha.score(X_train, y_train))\n",
    "    test_accuracy.append(model_best_alpha.score(X_test, y_test))\n",
    "    \n",
    "print(\"Number of nodes in the last tree is: {} with ccp_alpha: {}\".format(clfs[-1].tree_.node_count, ccp_alphas[-1]))\n",
    "\n",
    "#plotting\n",
    "fig = go.Figure()\n",
    "fig.add_trace(go.Scatter(x=ccp_alphas, y=train_accuracy,\n",
    "                    mode='lines+markers',\n",
    "                    name='Train Accuracy',\n",
    "                        line = dict(color='#E2AC48' , width=2)))\n",
    "fig.add_trace(go.Scatter(x=ccp_alphas, y=test_accuracy,\n",
    "                    mode='lines+markers',\n",
    "                    name='Test Accuracy',\n",
    "                        line = dict(color='#983C2D' , width=2)))\n",
    "fig.update_layout(\n",
    "    title='Train Accuracy vs Test Accuracy With Different CCPs',\n",
    "    xaxis_title='Accuracy',\n",
    "    yaxis_title='CCP',\n",
    "    width=1000, \n",
    "    height=600,\n",
    "    # plot_bgcolor='#DEE0D5'\n",
    ")\n",
    "cmap = ['#DEE0D5' ,'#A7C5C5' ,  '#E2AC48' , '#B96028' , ]\n",
    "fig.show()"
   ]
  },
  {
   "cell_type": "code",
   "execution_count": 468,
   "id": "00a7cbcd-4d6c-4e07-a9b2-a40ca4634fa8",
   "metadata": {},
   "outputs": [
    {
     "name": "stdout",
     "output_type": "stream",
     "text": [
      "Number of nodes in the last tree is: 11 with ccp_alpha: 0.03545892785718027\n"
     ]
    },
    {
     "data": {
      "application/vnd.plotly.v1+json": {
       "config": {
        "plotlyServerURL": "https://plot.ly"
       },
       "data": [
        {
         "line": {
          "color": "#E2AC48",
          "width": 2
         },
         "mode": "lines+markers",
         "name": "Train Accuracy",
         "type": "scatter",
         "x": [
          0,
          0.00125,
          0.00125,
          0.00125,
          0.0015171103038354198,
          0.0016812224599330077,
          0.001721804688852168,
          0.001721804688852168,
          0.001721804688852168,
          0.001875,
          0.002028195311147832,
          0.002028195311147832,
          0.002028195311147832,
          0.002054347798626843,
          0.002256025296523007,
          0.002256025296523007,
          0.002256025296523007,
          0.002256025296523007,
          0.002282177784002019,
          0.002334585933443496,
          0.0024375840811813277,
          0.0024949868084581397,
          0.0025,
          0.002588568406297683,
          0.0027333548460859837,
          0.002790245904193847,
          0.0029809595561662437,
          0.003011062229604064,
          0.0030215417850854034,
          0.0030342206076708397,
          0.0030342206076708397,
          0.0030578052164250647,
          0.0030635184721741664,
          0.003137218755408673,
          0.0033942530261076177,
          0.0034292926882848566,
          0.0035627522435439842,
          0.0036801968092395176,
          0.0036840370359458863,
          0.0037090183620567224,
          0.003812415918818672,
          0.003812415918818672,
          0.003927901993580618,
          0.003996519448188232,
          0.004012446486254293,
          0.004015705218893047,
          0.0040338949258943565,
          0.004073764517471169,
          0.004193400640482148,
          0.004205036085151165,
          0.004233222262976483,
          0.004302576097325718,
          0.004358759834117523,
          0.00443811392561957,
          0.004453382607644727,
          0.004530763189872618,
          0.004637720644098972,
          0.004772170014624825,
          0.0047896176746544256,
          0.005101588342990709,
          0.005101588342990711,
          0.005299152913554827,
          0.005622053247866977,
          0.0057643359391683045,
          0.006032177784002019,
          0.006167782572001808,
          0.0064075692507679066,
          0.00655895850102045,
          0.006795682069053196,
          0.006800319770355952,
          0.006912597182644977,
          0.0070662677210971865,
          0.007330837099770303,
          0.0073431519360938925,
          0.007763298574406696,
          0.008181806242931921,
          0.008483781869988896,
          0.009046117271625343,
          0.00904956931964565,
          0.009439467086091256,
          0.009459213382975527,
          0.009555186012042458,
          0.010268139449064932,
          0.010618922329215654,
          0.011125095603310417,
          0.01306383456762665,
          0.0132122668567776,
          0.013841678434875507,
          0.014564880539306022,
          0.014910439574962693,
          0.017418256350671103,
          0.017461289850864967,
          0.018807539687026878,
          0.019193969741856838,
          0.01943710826608608,
          0.02109388944395746,
          0.022020379815701333,
          0.02448678665410796,
          0.02990061655297653,
          0.030425607211072098,
          0.03068180944374982,
          0.03545892785718027
         ],
         "y": [
          0.994375,
          0.9925,
          0.9925,
          0.9925,
          0.99125,
          0.99125,
          0.989375,
          0.989375,
          0.989375,
          0.9875,
          0.985625,
          0.985625,
          0.985625,
          0.985,
          0.9825,
          0.9825,
          0.9825,
          0.9825,
          0.98125,
          0.980625,
          0.98,
          0.98,
          0.97875,
          0.978125,
          0.978125,
          0.976875,
          0.97625,
          0.97625,
          0.975625,
          0.973125,
          0.973125,
          0.97125,
          0.97,
          0.968125,
          0.968125,
          0.9675,
          0.9675,
          0.965625,
          0.965625,
          0.965,
          0.96125,
          0.96125,
          0.960625,
          0.960625,
          0.96,
          0.958125,
          0.955625,
          0.955625,
          0.955,
          0.95375,
          0.953125,
          0.953125,
          0.94875,
          0.948125,
          0.94625,
          0.945,
          0.945,
          0.943125,
          0.9425,
          0.939375,
          0.938125,
          0.938125,
          0.935625,
          0.935625,
          0.9325,
          0.93,
          0.925625,
          0.92375,
          0.92375,
          0.9225,
          0.92,
          0.91875,
          0.91375,
          0.91375,
          0.91,
          0.906875,
          0.904375,
          0.898125,
          0.898125,
          0.898125,
          0.8975,
          0.89375,
          0.89,
          0.87875,
          0.87875,
          0.87875,
          0.87875,
          0.87875,
          0.8725,
          0.860625,
          0.849375,
          0.843125,
          0.843125,
          0.843125,
          0.838125,
          0.825625,
          0.81875,
          0.81875,
          0.79375,
          0.79375,
          0.79375,
          0.79375
         ]
        },
        {
         "line": {
          "color": "#983C2D",
          "width": 2
         },
         "mode": "lines+markers",
         "name": "Test Accuracy",
         "type": "scatter",
         "x": [
          0,
          0.00125,
          0.00125,
          0.00125,
          0.0015171103038354198,
          0.0016812224599330077,
          0.001721804688852168,
          0.001721804688852168,
          0.001721804688852168,
          0.001875,
          0.002028195311147832,
          0.002028195311147832,
          0.002028195311147832,
          0.002054347798626843,
          0.002256025296523007,
          0.002256025296523007,
          0.002256025296523007,
          0.002256025296523007,
          0.002282177784002019,
          0.002334585933443496,
          0.0024375840811813277,
          0.0024949868084581397,
          0.0025,
          0.002588568406297683,
          0.0027333548460859837,
          0.002790245904193847,
          0.0029809595561662437,
          0.003011062229604064,
          0.0030215417850854034,
          0.0030342206076708397,
          0.0030342206076708397,
          0.0030578052164250647,
          0.0030635184721741664,
          0.003137218755408673,
          0.0033942530261076177,
          0.0034292926882848566,
          0.0035627522435439842,
          0.0036801968092395176,
          0.0036840370359458863,
          0.0037090183620567224,
          0.003812415918818672,
          0.003812415918818672,
          0.003927901993580618,
          0.003996519448188232,
          0.004012446486254293,
          0.004015705218893047,
          0.0040338949258943565,
          0.004073764517471169,
          0.004193400640482148,
          0.004205036085151165,
          0.004233222262976483,
          0.004302576097325718,
          0.004358759834117523,
          0.00443811392561957,
          0.004453382607644727,
          0.004530763189872618,
          0.004637720644098972,
          0.004772170014624825,
          0.0047896176746544256,
          0.005101588342990709,
          0.005101588342990711,
          0.005299152913554827,
          0.005622053247866977,
          0.0057643359391683045,
          0.006032177784002019,
          0.006167782572001808,
          0.0064075692507679066,
          0.00655895850102045,
          0.006795682069053196,
          0.006800319770355952,
          0.006912597182644977,
          0.0070662677210971865,
          0.007330837099770303,
          0.0073431519360938925,
          0.007763298574406696,
          0.008181806242931921,
          0.008483781869988896,
          0.009046117271625343,
          0.00904956931964565,
          0.009439467086091256,
          0.009459213382975527,
          0.009555186012042458,
          0.010268139449064932,
          0.010618922329215654,
          0.011125095603310417,
          0.01306383456762665,
          0.0132122668567776,
          0.013841678434875507,
          0.014564880539306022,
          0.014910439574962693,
          0.017418256350671103,
          0.017461289850864967,
          0.018807539687026878,
          0.019193969741856838,
          0.01943710826608608,
          0.02109388944395746,
          0.022020379815701333,
          0.02448678665410796,
          0.02990061655297653,
          0.030425607211072098,
          0.03068180944374982,
          0.03545892785718027
         ],
         "y": [
          0.84,
          0.84,
          0.84,
          0.84,
          0.84,
          0.84,
          0.84,
          0.84,
          0.84,
          0.84,
          0.8425,
          0.8425,
          0.8425,
          0.84,
          0.845,
          0.845,
          0.845,
          0.845,
          0.845,
          0.8475,
          0.8425,
          0.8425,
          0.8475,
          0.85,
          0.85,
          0.8525,
          0.8525,
          0.8525,
          0.8525,
          0.8475,
          0.8475,
          0.85,
          0.85,
          0.8475,
          0.8475,
          0.8475,
          0.8475,
          0.845,
          0.845,
          0.845,
          0.8425,
          0.8425,
          0.845,
          0.845,
          0.845,
          0.8425,
          0.84,
          0.84,
          0.84,
          0.8375,
          0.8375,
          0.8375,
          0.835,
          0.8375,
          0.8375,
          0.8375,
          0.8375,
          0.8375,
          0.8325,
          0.835,
          0.84,
          0.84,
          0.84,
          0.84,
          0.83,
          0.83,
          0.835,
          0.84,
          0.84,
          0.8425,
          0.84,
          0.85,
          0.845,
          0.845,
          0.84,
          0.8475,
          0.84,
          0.8475,
          0.8475,
          0.8475,
          0.8475,
          0.845,
          0.85,
          0.845,
          0.845,
          0.845,
          0.845,
          0.845,
          0.8375,
          0.8375,
          0.815,
          0.7925,
          0.7925,
          0.7925,
          0.7875,
          0.785,
          0.7925,
          0.7925,
          0.7775,
          0.7775,
          0.7775,
          0.7775
         ]
        }
       ],
       "layout": {
        "height": 600,
        "template": {
         "data": {
          "bar": [
           {
            "error_x": {
             "color": "#2a3f5f"
            },
            "error_y": {
             "color": "#2a3f5f"
            },
            "marker": {
             "line": {
              "color": "#E5ECF6",
              "width": 0.5
             },
             "pattern": {
              "fillmode": "overlay",
              "size": 10,
              "solidity": 0.2
             }
            },
            "type": "bar"
           }
          ],
          "barpolar": [
           {
            "marker": {
             "line": {
              "color": "#E5ECF6",
              "width": 0.5
             },
             "pattern": {
              "fillmode": "overlay",
              "size": 10,
              "solidity": 0.2
             }
            },
            "type": "barpolar"
           }
          ],
          "carpet": [
           {
            "aaxis": {
             "endlinecolor": "#2a3f5f",
             "gridcolor": "white",
             "linecolor": "white",
             "minorgridcolor": "white",
             "startlinecolor": "#2a3f5f"
            },
            "baxis": {
             "endlinecolor": "#2a3f5f",
             "gridcolor": "white",
             "linecolor": "white",
             "minorgridcolor": "white",
             "startlinecolor": "#2a3f5f"
            },
            "type": "carpet"
           }
          ],
          "choropleth": [
           {
            "colorbar": {
             "outlinewidth": 0,
             "ticks": ""
            },
            "type": "choropleth"
           }
          ],
          "contour": [
           {
            "colorbar": {
             "outlinewidth": 0,
             "ticks": ""
            },
            "colorscale": [
             [
              0,
              "#0d0887"
             ],
             [
              0.1111111111111111,
              "#46039f"
             ],
             [
              0.2222222222222222,
              "#7201a8"
             ],
             [
              0.3333333333333333,
              "#9c179e"
             ],
             [
              0.4444444444444444,
              "#bd3786"
             ],
             [
              0.5555555555555556,
              "#d8576b"
             ],
             [
              0.6666666666666666,
              "#ed7953"
             ],
             [
              0.7777777777777778,
              "#fb9f3a"
             ],
             [
              0.8888888888888888,
              "#fdca26"
             ],
             [
              1,
              "#f0f921"
             ]
            ],
            "type": "contour"
           }
          ],
          "contourcarpet": [
           {
            "colorbar": {
             "outlinewidth": 0,
             "ticks": ""
            },
            "type": "contourcarpet"
           }
          ],
          "heatmap": [
           {
            "colorbar": {
             "outlinewidth": 0,
             "ticks": ""
            },
            "colorscale": [
             [
              0,
              "#0d0887"
             ],
             [
              0.1111111111111111,
              "#46039f"
             ],
             [
              0.2222222222222222,
              "#7201a8"
             ],
             [
              0.3333333333333333,
              "#9c179e"
             ],
             [
              0.4444444444444444,
              "#bd3786"
             ],
             [
              0.5555555555555556,
              "#d8576b"
             ],
             [
              0.6666666666666666,
              "#ed7953"
             ],
             [
              0.7777777777777778,
              "#fb9f3a"
             ],
             [
              0.8888888888888888,
              "#fdca26"
             ],
             [
              1,
              "#f0f921"
             ]
            ],
            "type": "heatmap"
           }
          ],
          "heatmapgl": [
           {
            "colorbar": {
             "outlinewidth": 0,
             "ticks": ""
            },
            "colorscale": [
             [
              0,
              "#0d0887"
             ],
             [
              0.1111111111111111,
              "#46039f"
             ],
             [
              0.2222222222222222,
              "#7201a8"
             ],
             [
              0.3333333333333333,
              "#9c179e"
             ],
             [
              0.4444444444444444,
              "#bd3786"
             ],
             [
              0.5555555555555556,
              "#d8576b"
             ],
             [
              0.6666666666666666,
              "#ed7953"
             ],
             [
              0.7777777777777778,
              "#fb9f3a"
             ],
             [
              0.8888888888888888,
              "#fdca26"
             ],
             [
              1,
              "#f0f921"
             ]
            ],
            "type": "heatmapgl"
           }
          ],
          "histogram": [
           {
            "marker": {
             "pattern": {
              "fillmode": "overlay",
              "size": 10,
              "solidity": 0.2
             }
            },
            "type": "histogram"
           }
          ],
          "histogram2d": [
           {
            "colorbar": {
             "outlinewidth": 0,
             "ticks": ""
            },
            "colorscale": [
             [
              0,
              "#0d0887"
             ],
             [
              0.1111111111111111,
              "#46039f"
             ],
             [
              0.2222222222222222,
              "#7201a8"
             ],
             [
              0.3333333333333333,
              "#9c179e"
             ],
             [
              0.4444444444444444,
              "#bd3786"
             ],
             [
              0.5555555555555556,
              "#d8576b"
             ],
             [
              0.6666666666666666,
              "#ed7953"
             ],
             [
              0.7777777777777778,
              "#fb9f3a"
             ],
             [
              0.8888888888888888,
              "#fdca26"
             ],
             [
              1,
              "#f0f921"
             ]
            ],
            "type": "histogram2d"
           }
          ],
          "histogram2dcontour": [
           {
            "colorbar": {
             "outlinewidth": 0,
             "ticks": ""
            },
            "colorscale": [
             [
              0,
              "#0d0887"
             ],
             [
              0.1111111111111111,
              "#46039f"
             ],
             [
              0.2222222222222222,
              "#7201a8"
             ],
             [
              0.3333333333333333,
              "#9c179e"
             ],
             [
              0.4444444444444444,
              "#bd3786"
             ],
             [
              0.5555555555555556,
              "#d8576b"
             ],
             [
              0.6666666666666666,
              "#ed7953"
             ],
             [
              0.7777777777777778,
              "#fb9f3a"
             ],
             [
              0.8888888888888888,
              "#fdca26"
             ],
             [
              1,
              "#f0f921"
             ]
            ],
            "type": "histogram2dcontour"
           }
          ],
          "mesh3d": [
           {
            "colorbar": {
             "outlinewidth": 0,
             "ticks": ""
            },
            "type": "mesh3d"
           }
          ],
          "parcoords": [
           {
            "line": {
             "colorbar": {
              "outlinewidth": 0,
              "ticks": ""
             }
            },
            "type": "parcoords"
           }
          ],
          "pie": [
           {
            "automargin": true,
            "type": "pie"
           }
          ],
          "scatter": [
           {
            "fillpattern": {
             "fillmode": "overlay",
             "size": 10,
             "solidity": 0.2
            },
            "type": "scatter"
           }
          ],
          "scatter3d": [
           {
            "line": {
             "colorbar": {
              "outlinewidth": 0,
              "ticks": ""
             }
            },
            "marker": {
             "colorbar": {
              "outlinewidth": 0,
              "ticks": ""
             }
            },
            "type": "scatter3d"
           }
          ],
          "scattercarpet": [
           {
            "marker": {
             "colorbar": {
              "outlinewidth": 0,
              "ticks": ""
             }
            },
            "type": "scattercarpet"
           }
          ],
          "scattergeo": [
           {
            "marker": {
             "colorbar": {
              "outlinewidth": 0,
              "ticks": ""
             }
            },
            "type": "scattergeo"
           }
          ],
          "scattergl": [
           {
            "marker": {
             "colorbar": {
              "outlinewidth": 0,
              "ticks": ""
             }
            },
            "type": "scattergl"
           }
          ],
          "scattermapbox": [
           {
            "marker": {
             "colorbar": {
              "outlinewidth": 0,
              "ticks": ""
             }
            },
            "type": "scattermapbox"
           }
          ],
          "scatterpolar": [
           {
            "marker": {
             "colorbar": {
              "outlinewidth": 0,
              "ticks": ""
             }
            },
            "type": "scatterpolar"
           }
          ],
          "scatterpolargl": [
           {
            "marker": {
             "colorbar": {
              "outlinewidth": 0,
              "ticks": ""
             }
            },
            "type": "scatterpolargl"
           }
          ],
          "scatterternary": [
           {
            "marker": {
             "colorbar": {
              "outlinewidth": 0,
              "ticks": ""
             }
            },
            "type": "scatterternary"
           }
          ],
          "surface": [
           {
            "colorbar": {
             "outlinewidth": 0,
             "ticks": ""
            },
            "colorscale": [
             [
              0,
              "#0d0887"
             ],
             [
              0.1111111111111111,
              "#46039f"
             ],
             [
              0.2222222222222222,
              "#7201a8"
             ],
             [
              0.3333333333333333,
              "#9c179e"
             ],
             [
              0.4444444444444444,
              "#bd3786"
             ],
             [
              0.5555555555555556,
              "#d8576b"
             ],
             [
              0.6666666666666666,
              "#ed7953"
             ],
             [
              0.7777777777777778,
              "#fb9f3a"
             ],
             [
              0.8888888888888888,
              "#fdca26"
             ],
             [
              1,
              "#f0f921"
             ]
            ],
            "type": "surface"
           }
          ],
          "table": [
           {
            "cells": {
             "fill": {
              "color": "#EBF0F8"
             },
             "line": {
              "color": "white"
             }
            },
            "header": {
             "fill": {
              "color": "#C8D4E3"
             },
             "line": {
              "color": "white"
             }
            },
            "type": "table"
           }
          ]
         },
         "layout": {
          "annotationdefaults": {
           "arrowcolor": "#2a3f5f",
           "arrowhead": 0,
           "arrowwidth": 1
          },
          "autotypenumbers": "strict",
          "coloraxis": {
           "colorbar": {
            "outlinewidth": 0,
            "ticks": ""
           }
          },
          "colorscale": {
           "diverging": [
            [
             0,
             "#8e0152"
            ],
            [
             0.1,
             "#c51b7d"
            ],
            [
             0.2,
             "#de77ae"
            ],
            [
             0.3,
             "#f1b6da"
            ],
            [
             0.4,
             "#fde0ef"
            ],
            [
             0.5,
             "#f7f7f7"
            ],
            [
             0.6,
             "#e6f5d0"
            ],
            [
             0.7,
             "#b8e186"
            ],
            [
             0.8,
             "#7fbc41"
            ],
            [
             0.9,
             "#4d9221"
            ],
            [
             1,
             "#276419"
            ]
           ],
           "sequential": [
            [
             0,
             "#0d0887"
            ],
            [
             0.1111111111111111,
             "#46039f"
            ],
            [
             0.2222222222222222,
             "#7201a8"
            ],
            [
             0.3333333333333333,
             "#9c179e"
            ],
            [
             0.4444444444444444,
             "#bd3786"
            ],
            [
             0.5555555555555556,
             "#d8576b"
            ],
            [
             0.6666666666666666,
             "#ed7953"
            ],
            [
             0.7777777777777778,
             "#fb9f3a"
            ],
            [
             0.8888888888888888,
             "#fdca26"
            ],
            [
             1,
             "#f0f921"
            ]
           ],
           "sequentialminus": [
            [
             0,
             "#0d0887"
            ],
            [
             0.1111111111111111,
             "#46039f"
            ],
            [
             0.2222222222222222,
             "#7201a8"
            ],
            [
             0.3333333333333333,
             "#9c179e"
            ],
            [
             0.4444444444444444,
             "#bd3786"
            ],
            [
             0.5555555555555556,
             "#d8576b"
            ],
            [
             0.6666666666666666,
             "#ed7953"
            ],
            [
             0.7777777777777778,
             "#fb9f3a"
            ],
            [
             0.8888888888888888,
             "#fdca26"
            ],
            [
             1,
             "#f0f921"
            ]
           ]
          },
          "colorway": [
           "#636efa",
           "#EF553B",
           "#00cc96",
           "#ab63fa",
           "#FFA15A",
           "#19d3f3",
           "#FF6692",
           "#B6E880",
           "#FF97FF",
           "#FECB52"
          ],
          "font": {
           "color": "#2a3f5f"
          },
          "geo": {
           "bgcolor": "white",
           "lakecolor": "white",
           "landcolor": "#E5ECF6",
           "showlakes": true,
           "showland": true,
           "subunitcolor": "white"
          },
          "hoverlabel": {
           "align": "left"
          },
          "hovermode": "closest",
          "mapbox": {
           "style": "light"
          },
          "paper_bgcolor": "white",
          "plot_bgcolor": "#E5ECF6",
          "polar": {
           "angularaxis": {
            "gridcolor": "white",
            "linecolor": "white",
            "ticks": ""
           },
           "bgcolor": "#E5ECF6",
           "radialaxis": {
            "gridcolor": "white",
            "linecolor": "white",
            "ticks": ""
           }
          },
          "scene": {
           "xaxis": {
            "backgroundcolor": "#E5ECF6",
            "gridcolor": "white",
            "gridwidth": 2,
            "linecolor": "white",
            "showbackground": true,
            "ticks": "",
            "zerolinecolor": "white"
           },
           "yaxis": {
            "backgroundcolor": "#E5ECF6",
            "gridcolor": "white",
            "gridwidth": 2,
            "linecolor": "white",
            "showbackground": true,
            "ticks": "",
            "zerolinecolor": "white"
           },
           "zaxis": {
            "backgroundcolor": "#E5ECF6",
            "gridcolor": "white",
            "gridwidth": 2,
            "linecolor": "white",
            "showbackground": true,
            "ticks": "",
            "zerolinecolor": "white"
           }
          },
          "shapedefaults": {
           "line": {
            "color": "#2a3f5f"
           }
          },
          "ternary": {
           "aaxis": {
            "gridcolor": "white",
            "linecolor": "white",
            "ticks": ""
           },
           "baxis": {
            "gridcolor": "white",
            "linecolor": "white",
            "ticks": ""
           },
           "bgcolor": "#E5ECF6",
           "caxis": {
            "gridcolor": "white",
            "linecolor": "white",
            "ticks": ""
           }
          },
          "title": {
           "x": 0.05
          },
          "xaxis": {
           "automargin": true,
           "gridcolor": "white",
           "linecolor": "white",
           "ticks": "",
           "title": {
            "standoff": 15
           },
           "zerolinecolor": "white",
           "zerolinewidth": 2
          },
          "yaxis": {
           "automargin": true,
           "gridcolor": "white",
           "linecolor": "white",
           "ticks": "",
           "title": {
            "standoff": 15
           },
           "zerolinecolor": "white",
           "zerolinewidth": 2
          }
         }
        },
        "title": {
         "text": "Train Accuracy vs Test Accuracy With Different CCPs"
        },
        "width": 1000,
        "xaxis": {
         "autorange": true,
         "range": [
          -0.0021889200314977888,
          0.03764784788867806
         ],
         "title": {
          "text": "Accuracy"
         },
         "type": "linear"
        },
        "yaxis": {
         "autorange": true,
         "range": [
          0.763012398785425,
          1.008862601214575
         ],
         "title": {
          "text": "CCP"
         },
         "type": "linear"
        }
       }
      },
      "image/png": "[encoded data removed]",
      "text/html": [
       "<div>                            <div id=\"e802efe6-e9b8-4036-9703-3c8b33d77837\" class=\"plotly-graph-div\" style=\"height:600px; width:1000px;\"></div>            <script type=\"text/javascript\">                require([\"plotly\"], function(Plotly) {                    window.PLOTLYENV=window.PLOTLYENV || {};                                    if (document.getElementById(\"e802efe6-e9b8-4036-9703-3c8b33d77837\")) {                    Plotly.newPlot(                        \"e802efe6-e9b8-4036-9703-3c8b33d77837\",                        [{\"line\":{\"color\":\"#E2AC48\",\"width\":2},\"mode\":\"lines+markers\",\"name\":\"Train Accuracy\",\"x\":[0.0,0.00125,0.00125,0.00125,0.0015171103038354198,0.0016812224599330077,0.001721804688852168,0.001721804688852168,0.001721804688852168,0.001875,0.002028195311147832,0.002028195311147832,0.002028195311147832,0.002054347798626843,0.002256025296523007,0.002256025296523007,0.002256025296523007,0.002256025296523007,0.002282177784002019,0.002334585933443496,0.0024375840811813277,0.0024949868084581397,0.0025,0.002588568406297683,0.0027333548460859837,0.002790245904193847,0.0029809595561662437,0.003011062229604064,0.0030215417850854034,0.0030342206076708397,0.0030342206076708397,0.0030578052164250647,0.0030635184721741664,0.003137218755408673,0.0033942530261076177,0.0034292926882848566,0.0035627522435439842,0.0036801968092395176,0.0036840370359458863,0.0037090183620567224,0.003812415918818672,0.003812415918818672,0.003927901993580618,0.003996519448188232,0.004012446486254293,0.004015705218893047,0.0040338949258943565,0.004073764517471169,0.004193400640482148,0.004205036085151165,0.004233222262976483,0.004302576097325718,0.004358759834117523,0.00443811392561957,0.004453382607644727,0.004530763189872618,0.004637720644098972,0.004772170014624825,0.0047896176746544256,0.005101588342990709,0.005101588342990711,0.005299152913554827,0.005622053247866977,0.0057643359391683045,0.006032177784002019,0.006167782572001808,0.0064075692507679066,0.00655895850102045,0.006795682069053196,0.006800319770355952,0.006912597182644977,0.0070662677210971865,0.007330837099770303,0.0073431519360938925,0.007763298574406696,0.008181806242931921,0.008483781869988896,0.009046117271625343,0.00904956931964565,0.009439467086091256,0.009459213382975527,0.009555186012042458,0.010268139449064932,0.010618922329215654,0.011125095603310417,0.01306383456762665,0.0132122668567776,0.013841678434875507,0.014564880539306022,0.014910439574962693,0.017418256350671103,0.017461289850864967,0.018807539687026878,0.019193969741856838,0.01943710826608608,0.02109388944395746,0.022020379815701333,0.02448678665410796,0.02990061655297653,0.030425607211072098,0.03068180944374982,0.03545892785718027],\"y\":[0.994375,0.9925,0.9925,0.9925,0.99125,0.99125,0.989375,0.989375,0.989375,0.9875,0.985625,0.985625,0.985625,0.985,0.9825,0.9825,0.9825,0.9825,0.98125,0.980625,0.98,0.98,0.97875,0.978125,0.978125,0.976875,0.97625,0.97625,0.975625,0.973125,0.973125,0.97125,0.97,0.968125,0.968125,0.9675,0.9675,0.965625,0.965625,0.965,0.96125,0.96125,0.960625,0.960625,0.96,0.958125,0.955625,0.955625,0.955,0.95375,0.953125,0.953125,0.94875,0.948125,0.94625,0.945,0.945,0.943125,0.9425,0.939375,0.938125,0.938125,0.935625,0.935625,0.9325,0.93,0.925625,0.92375,0.92375,0.9225,0.92,0.91875,0.91375,0.91375,0.91,0.906875,0.904375,0.898125,0.898125,0.898125,0.8975,0.89375,0.89,0.87875,0.87875,0.87875,0.87875,0.87875,0.8725,0.860625,0.849375,0.843125,0.843125,0.843125,0.838125,0.825625,0.81875,0.81875,0.79375,0.79375,0.79375,0.79375],\"type\":\"scatter\"},{\"line\":{\"color\":\"#983C2D\",\"width\":2},\"mode\":\"lines+markers\",\"name\":\"Test Accuracy\",\"x\":[0.0,0.00125,0.00125,0.00125,0.0015171103038354198,0.0016812224599330077,0.001721804688852168,0.001721804688852168,0.001721804688852168,0.001875,0.002028195311147832,0.002028195311147832,0.002028195311147832,0.002054347798626843,0.002256025296523007,0.002256025296523007,0.002256025296523007,0.002256025296523007,0.002282177784002019,0.002334585933443496,0.0024375840811813277,0.0024949868084581397,0.0025,0.002588568406297683,0.0027333548460859837,0.002790245904193847,0.0029809595561662437,0.003011062229604064,0.0030215417850854034,0.0030342206076708397,0.0030342206076708397,0.0030578052164250647,0.0030635184721741664,0.003137218755408673,0.0033942530261076177,0.0034292926882848566,0.0035627522435439842,0.0036801968092395176,0.0036840370359458863,0.0037090183620567224,0.003812415918818672,0.003812415918818672,0.003927901993580618,0.003996519448188232,0.004012446486254293,0.004015705218893047,0.0040338949258943565,0.004073764517471169,0.004193400640482148,0.004205036085151165,0.004233222262976483,0.004302576097325718,0.004358759834117523,0.00443811392561957,0.004453382607644727,0.004530763189872618,0.004637720644098972,0.004772170014624825,0.0047896176746544256,0.005101588342990709,0.005101588342990711,0.005299152913554827,0.005622053247866977,0.0057643359391683045,0.006032177784002019,0.006167782572001808,0.0064075692507679066,0.00655895850102045,0.006795682069053196,0.006800319770355952,0.006912597182644977,0.0070662677210971865,0.007330837099770303,0.0073431519360938925,0.007763298574406696,0.008181806242931921,0.008483781869988896,0.009046117271625343,0.00904956931964565,0.009439467086091256,0.009459213382975527,0.009555186012042458,0.010268139449064932,0.010618922329215654,0.011125095603310417,0.01306383456762665,0.0132122668567776,0.013841678434875507,0.014564880539306022,0.014910439574962693,0.017418256350671103,0.017461289850864967,0.018807539687026878,0.019193969741856838,0.01943710826608608,0.02109388944395746,0.022020379815701333,0.02448678665410796,0.02990061655297653,0.030425607211072098,0.03068180944374982,0.03545892785718027],\"y\":[0.84,0.84,0.84,0.84,0.84,0.84,0.84,0.84,0.84,0.84,0.8425,0.8425,0.8425,0.84,0.845,0.845,0.845,0.845,0.845,0.8475,0.8425,0.8425,0.8475,0.85,0.85,0.8525,0.8525,0.8525,0.8525,0.8475,0.8475,0.85,0.85,0.8475,0.8475,0.8475,0.8475,0.845,0.845,0.845,0.8425,0.8425,0.845,0.845,0.845,0.8425,0.84,0.84,0.84,0.8375,0.8375,0.8375,0.835,0.8375,0.8375,0.8375,0.8375,0.8375,0.8325,0.835,0.84,0.84,0.84,0.84,0.83,0.83,0.835,0.84,0.84,0.8425,0.84,0.85,0.845,0.845,0.84,0.8475,0.84,0.8475,0.8475,0.8475,0.8475,0.845,0.85,0.845,0.845,0.845,0.845,0.845,0.8375,0.8375,0.815,0.7925,0.7925,0.7925,0.7875,0.785,0.7925,0.7925,0.7775,0.7775,0.7775,0.7775],\"type\":\"scatter\"}],                        {\"template\":{\"data\":{\"histogram2dcontour\":[{\"type\":\"histogram2dcontour\",\"colorbar\":{\"outlinewidth\":0,\"ticks\":\"\"},\"colorscale\":[[0.0,\"#0d0887\"],[0.1111111111111111,\"#46039f\"],[0.2222222222222222,\"#7201a8\"],[0.3333333333333333,\"#9c179e\"],[0.4444444444444444,\"#bd3786\"],[0.5555555555555556,\"#d8576b\"],[0.6666666666666666,\"#ed7953\"],[0.7777777777777778,\"#fb9f3a\"],[0.8888888888888888,\"#fdca26\"],[1.0,\"#f0f921\"]]}],\"choropleth\":[{\"type\":\"choropleth\",\"colorbar\":{\"outlinewidth\":0,\"ticks\":\"\"}}],\"histogram2d\":[{\"type\":\"histogram2d\",\"colorbar\":{\"outlinewidth\":0,\"ticks\":\"\"},\"colorscale\":[[0.0,\"#0d0887\"],[0.1111111111111111,\"#46039f\"],[0.2222222222222222,\"#7201a8\"],[0.3333333333333333,\"#9c179e\"],[0.4444444444444444,\"#bd3786\"],[0.5555555555555556,\"#d8576b\"],[0.6666666666666666,\"#ed7953\"],[0.7777777777777778,\"#fb9f3a\"],[0.8888888888888888,\"#fdca26\"],[1.0,\"#f0f921\"]]}],\"heatmap\":[{\"type\":\"heatmap\",\"colorbar\":{\"outlinewidth\":0,\"ticks\":\"\"},\"colorscale\":[[0.0,\"#0d0887\"],[0.1111111111111111,\"#46039f\"],[0.2222222222222222,\"#7201a8\"],[0.3333333333333333,\"#9c179e\"],[0.4444444444444444,\"#bd3786\"],[0.5555555555555556,\"#d8576b\"],[0.6666666666666666,\"#ed7953\"],[0.7777777777777778,\"#fb9f3a\"],[0.8888888888888888,\"#fdca26\"],[1.0,\"#f0f921\"]]}],\"heatmapgl\":[{\"type\":\"heatmapgl\",\"colorbar\":{\"outlinewidth\":0,\"ticks\":\"\"},\"colorscale\":[[0.0,\"#0d0887\"],[0.1111111111111111,\"#46039f\"],[0.2222222222222222,\"#7201a8\"],[0.3333333333333333,\"#9c179e\"],[0.4444444444444444,\"#bd3786\"],[0.5555555555555556,\"#d8576b\"],[0.6666666666666666,\"#ed7953\"],[0.7777777777777778,\"#fb9f3a\"],[0.8888888888888888,\"#fdca26\"],[1.0,\"#f0f921\"]]}],\"contourcarpet\":[{\"type\":\"contourcarpet\",\"colorbar\":{\"outlinewidth\":0,\"ticks\":\"\"}}],\"contour\":[{\"type\":\"contour\",\"colorbar\":{\"outlinewidth\":0,\"ticks\":\"\"},\"colorscale\":[[0.0,\"#0d0887\"],[0.1111111111111111,\"#46039f\"],[0.2222222222222222,\"#7201a8\"],[0.3333333333333333,\"#9c179e\"],[0.4444444444444444,\"#bd3786\"],[0.5555555555555556,\"#d8576b\"],[0.6666666666666666,\"#ed7953\"],[0.7777777777777778,\"#fb9f3a\"],[0.8888888888888888,\"#fdca26\"],[1.0,\"#f0f921\"]]}],\"surface\":[{\"type\":\"surface\",\"colorbar\":{\"outlinewidth\":0,\"ticks\":\"\"},\"colorscale\":[[0.0,\"#0d0887\"],[0.1111111111111111,\"#46039f\"],[0.2222222222222222,\"#7201a8\"],[0.3333333333333333,\"#9c179e\"],[0.4444444444444444,\"#bd3786\"],[0.5555555555555556,\"#d8576b\"],[0.6666666666666666,\"#ed7953\"],[0.7777777777777778,\"#fb9f3a\"],[0.8888888888888888,\"#fdca26\"],[1.0,\"#f0f921\"]]}],\"mesh3d\":[{\"type\":\"mesh3d\",\"colorbar\":{\"outlinewidth\":0,\"ticks\":\"\"}}],\"scatter\":[{\"fillpattern\":{\"fillmode\":\"overlay\",\"size\":10,\"solidity\":0.2},\"type\":\"scatter\"}],\"parcoords\":[{\"type\":\"parcoords\",\"line\":{\"colorbar\":{\"outlinewidth\":0,\"ticks\":\"\"}}}],\"scatterpolargl\":[{\"type\":\"scatterpolargl\",\"marker\":{\"colorbar\":{\"outlinewidth\":0,\"ticks\":\"\"}}}],\"bar\":[{\"error_x\":{\"color\":\"#2a3f5f\"},\"error_y\":{\"color\":\"#2a3f5f\"},\"marker\":{\"line\":{\"color\":\"#E5ECF6\",\"width\":0.5},\"pattern\":{\"fillmode\":\"overlay\",\"size\":10,\"solidity\":0.2}},\"type\":\"bar\"}],\"scattergeo\":[{\"type\":\"scattergeo\",\"marker\":{\"colorbar\":{\"outlinewidth\":0,\"ticks\":\"\"}}}],\"scatterpolar\":[{\"type\":\"scatterpolar\",\"marker\":{\"colorbar\":{\"outlinewidth\":0,\"ticks\":\"\"}}}],\"histogram\":[{\"marker\":{\"pattern\":{\"fillmode\":\"overlay\",\"size\":10,\"solidity\":0.2}},\"type\":\"histogram\"}],\"scattergl\":[{\"type\":\"scattergl\",\"marker\":{\"colorbar\":{\"outlinewidth\":0,\"ticks\":\"\"}}}],\"scatter3d\":[{\"type\":\"scatter3d\",\"line\":{\"colorbar\":{\"outlinewidth\":0,\"ticks\":\"\"}},\"marker\":{\"colorbar\":{\"outlinewidth\":0,\"ticks\":\"\"}}}],\"scattermapbox\":[{\"type\":\"scattermapbox\",\"marker\":{\"colorbar\":{\"outlinewidth\":0,\"ticks\":\"\"}}}],\"scatterternary\":[{\"type\":\"scatterternary\",\"marker\":{\"colorbar\":{\"outlinewidth\":0,\"ticks\":\"\"}}}],\"scattercarpet\":[{\"type\":\"scattercarpet\",\"marker\":{\"colorbar\":{\"outlinewidth\":0,\"ticks\":\"\"}}}],\"carpet\":[{\"aaxis\":{\"endlinecolor\":\"#2a3f5f\",\"gridcolor\":\"white\",\"linecolor\":\"white\",\"minorgridcolor\":\"white\",\"startlinecolor\":\"#2a3f5f\"},\"baxis\":{\"endlinecolor\":\"#2a3f5f\",\"gridcolor\":\"white\",\"linecolor\":\"white\",\"minorgridcolor\":\"white\",\"startlinecolor\":\"#2a3f5f\"},\"type\":\"carpet\"}],\"table\":[{\"cells\":{\"fill\":{\"color\":\"#EBF0F8\"},\"line\":{\"color\":\"white\"}},\"header\":{\"fill\":{\"color\":\"#C8D4E3\"},\"line\":{\"color\":\"white\"}},\"type\":\"table\"}],\"barpolar\":[{\"marker\":{\"line\":{\"color\":\"#E5ECF6\",\"width\":0.5},\"pattern\":{\"fillmode\":\"overlay\",\"size\":10,\"solidity\":0.2}},\"type\":\"barpolar\"}],\"pie\":[{\"automargin\":true,\"type\":\"pie\"}]},\"layout\":{\"autotypenumbers\":\"strict\",\"colorway\":[\"#636efa\",\"#EF553B\",\"#00cc96\",\"#ab63fa\",\"#FFA15A\",\"#19d3f3\",\"#FF6692\",\"#B6E880\",\"#FF97FF\",\"#FECB52\"],\"font\":{\"color\":\"#2a3f5f\"},\"hovermode\":\"closest\",\"hoverlabel\":{\"align\":\"left\"},\"paper_bgcolor\":\"white\",\"plot_bgcolor\":\"#E5ECF6\",\"polar\":{\"bgcolor\":\"#E5ECF6\",\"angularaxis\":{\"gridcolor\":\"white\",\"linecolor\":\"white\",\"ticks\":\"\"},\"radialaxis\":{\"gridcolor\":\"white\",\"linecolor\":\"white\",\"ticks\":\"\"}},\"ternary\":{\"bgcolor\":\"#E5ECF6\",\"aaxis\":{\"gridcolor\":\"white\",\"linecolor\":\"white\",\"ticks\":\"\"},\"baxis\":{\"gridcolor\":\"white\",\"linecolor\":\"white\",\"ticks\":\"\"},\"caxis\":{\"gridcolor\":\"white\",\"linecolor\":\"white\",\"ticks\":\"\"}},\"coloraxis\":{\"colorbar\":{\"outlinewidth\":0,\"ticks\":\"\"}},\"colorscale\":{\"sequential\":[[0.0,\"#0d0887\"],[0.1111111111111111,\"#46039f\"],[0.2222222222222222,\"#7201a8\"],[0.3333333333333333,\"#9c179e\"],[0.4444444444444444,\"#bd3786\"],[0.5555555555555556,\"#d8576b\"],[0.6666666666666666,\"#ed7953\"],[0.7777777777777778,\"#fb9f3a\"],[0.8888888888888888,\"#fdca26\"],[1.0,\"#f0f921\"]],\"sequentialminus\":[[0.0,\"#0d0887\"],[0.1111111111111111,\"#46039f\"],[0.2222222222222222,\"#7201a8\"],[0.3333333333333333,\"#9c179e\"],[0.4444444444444444,\"#bd3786\"],[0.5555555555555556,\"#d8576b\"],[0.6666666666666666,\"#ed7953\"],[0.7777777777777778,\"#fb9f3a\"],[0.8888888888888888,\"#fdca26\"],[1.0,\"#f0f921\"]],\"diverging\":[[0,\"#8e0152\"],[0.1,\"#c51b7d\"],[0.2,\"#de77ae\"],[0.3,\"#f1b6da\"],[0.4,\"#fde0ef\"],[0.5,\"#f7f7f7\"],[0.6,\"#e6f5d0\"],[0.7,\"#b8e186\"],[0.8,\"#7fbc41\"],[0.9,\"#4d9221\"],[1,\"#276419\"]]},\"xaxis\":{\"gridcolor\":\"white\",\"linecolor\":\"white\",\"ticks\":\"\",\"title\":{\"standoff\":15},\"zerolinecolor\":\"white\",\"automargin\":true,\"zerolinewidth\":2},\"yaxis\":{\"gridcolor\":\"white\",\"linecolor\":\"white\",\"ticks\":\"\",\"title\":{\"standoff\":15},\"zerolinecolor\":\"white\",\"automargin\":true,\"zerolinewidth\":2},\"scene\":{\"xaxis\":{\"backgroundcolor\":\"#E5ECF6\",\"gridcolor\":\"white\",\"linecolor\":\"white\",\"showbackground\":true,\"ticks\":\"\",\"zerolinecolor\":\"white\",\"gridwidth\":2},\"yaxis\":{\"backgroundcolor\":\"#E5ECF6\",\"gridcolor\":\"white\",\"linecolor\":\"white\",\"showbackground\":true,\"ticks\":\"\",\"zerolinecolor\":\"white\",\"gridwidth\":2},\"zaxis\":{\"backgroundcolor\":\"#E5ECF6\",\"gridcolor\":\"white\",\"linecolor\":\"white\",\"showbackground\":true,\"ticks\":\"\",\"zerolinecolor\":\"white\",\"gridwidth\":2}},\"shapedefaults\":{\"line\":{\"color\":\"#2a3f5f\"}},\"annotationdefaults\":{\"arrowcolor\":\"#2a3f5f\",\"arrowhead\":0,\"arrowwidth\":1},\"geo\":{\"bgcolor\":\"white\",\"landcolor\":\"#E5ECF6\",\"subunitcolor\":\"white\",\"showland\":true,\"showlakes\":true,\"lakecolor\":\"white\"},\"title\":{\"x\":0.05},\"mapbox\":{\"style\":\"light\"}}},\"title\":{\"text\":\"Train Accuracy vs Test Accuracy With Different CCPs\"},\"xaxis\":{\"title\":{\"text\":\"Accuracy\"}},\"yaxis\":{\"title\":{\"text\":\"CCP\"}},\"width\":1000,\"height\":600},                        {\"responsive\": true}                    ).then(function(){\n",
       "                            \n",
       "var gd = document.getElementById('e802efe6-e9b8-4036-9703-3c8b33d77837');\n",
       "var x = new MutationObserver(function (mutations, observer) {{\n",
       "        var display = window.getComputedStyle(gd).display;\n",
       "        if (!display || display === 'none') {{\n",
       "            console.log([gd, 'removed!']);\n",
       "            Plotly.purge(gd);\n",
       "            observer.disconnect();\n",
       "        }}\n",
       "}});\n",
       "\n",
       "// Listen for the removal of the full notebook cells\n",
       "var notebookContainer = gd.closest('#notebook-container');\n",
       "if (notebookContainer) {{\n",
       "    x.observe(notebookContainer, {childList: true});\n",
       "}}\n",
       "\n",
       "// Listen for the clearing of the current output cell\n",
       "var outputEl = gd.closest('.output');\n",
       "if (outputEl) {{\n",
       "    x.observe(outputEl, {childList: true});\n",
       "}}\n",
       "\n",
       "                        })                };                });            </script>        </div>"
      ]
     },
     "metadata": {},
     "output_type": "display_data"
    }
   ],
   "source": [
    "## Menemukan cost complexity alpah\n",
    "clfs = []\n",
    "train_accuracy = []\n",
    "test_accuracy = []\n",
    "avarage = []\n",
    "ccp_alphas = ccp_alphas[ccp_alphas < 0.04]\n",
    "\n",
    "for n in ccp_alphas:\n",
    "    model_best_alpha = DecisionTreeClassifier(criterion='entropy', max_depth = 9,random_state=0, ccp_alpha=n)\n",
    "    model_best_alpha.fit(X_train, y_train)\n",
    "    clfs.append(model_best_alpha)\n",
    "    train_accuracy.append(model_best_alpha.score(X_train, y_train))\n",
    "    test_accuracy.append(model_best_alpha.score(X_test, y_test))\n",
    "    avarage.append((model_best_alpha.score(X_train, y_train)+model_best_alpha.score(X_test, y_test))/2)\n",
    "    \n",
    "print(\"Number of nodes in the last tree is: {} with ccp_alpha: {}\".format(clfs[-1].tree_.node_count, ccp_alphas[-1]))\n",
    "\n",
    "#plotting\n",
    "fig = go.Figure()\n",
    "fig.add_trace(go.Scatter(x=ccp_alphas, y=train_accuracy,\n",
    "                    mode='lines+markers',\n",
    "                    name='Train Accuracy',\n",
    "                        line = dict(color='#E2AC48' , width=2)))\n",
    "fig.add_trace(go.Scatter(x=ccp_alphas, y=test_accuracy,\n",
    "                    mode='lines+markers',\n",
    "                    name='Test Accuracy',\n",
    "                        line = dict(color='#983C2D' , width=2)))\n",
    "fig.update_layout(\n",
    "    title='Train Accuracy vs Test Accuracy With Different CCPs',\n",
    "    xaxis_title='Accuracy',\n",
    "    yaxis_title='CCP',\n",
    "    width=1000, \n",
    "    height=600,\n",
    "    # plot_bgcolor='#DEE0D5'\n",
    ")\n",
    "cmap = ['#DEE0D5' ,'#A7C5C5' ,  '#E2AC48' , '#B96028' , ]\n",
    "fig.show()"
   ]
  },
  {
   "cell_type": "code",
   "execution_count": null,
   "id": "170c16fe-c89d-4f3a-be95-cbef9a62809c",
   "metadata": {},
   "outputs": [],
   "source": []
  }
 ],
 "metadata": {
  "kernelspec": {
   "display_name": "Python 3 (ipykernel)",
   "language": "python",
   "name": "python3"
  },
  "language_info": {
   "codemirror_mode": {
    "name": "ipython",
    "version": 3
   },
   "file_extension": ".py",
   "mimetype": "text/x-python",
   "name": "python",
   "nbconvert_exporter": "python",
   "pygments_lexer": "ipython3",
   "version": "3.12.7"
  }
 },
 "nbformat": 4,
 "nbformat_minor": 5
}
